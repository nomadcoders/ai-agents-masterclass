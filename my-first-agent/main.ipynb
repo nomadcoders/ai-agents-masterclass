{
 "cells": [
  {
   "cell_type": "code",
   "execution_count": 15,
   "id": "b252a3d6",
   "metadata": {},
   "outputs": [],
   "source": [
    "import openai, json\n",
    "\n",
    "client = openai.OpenAI()\n",
    "messages = []"
   ]
  },
  {
   "cell_type": "code",
   "execution_count": null,
   "id": "f430f52e",
   "metadata": {},
   "outputs": [],
   "source": [
    "def get_weather(city):\n",
    "    return \"33 degrees celcius.\"\n",
    "\n",
    "\n",
    "FUNCTION_MAP = {\n",
    "    \"get_weather\": get_weather,\n",
    "}"
   ]
  },
  {
   "cell_type": "code",
   "execution_count": 17,
   "id": "675fdefe",
   "metadata": {},
   "outputs": [],
   "source": [
    "TOOLS = [\n",
    "    {\n",
    "        \"type\": \"function\",\n",
    "        \"function\": {\n",
    "            \"name\": \"get_weather\",\n",
    "            \"description\": \"A function to get the weather of a city.\",\n",
    "            \"parameters\": {\n",
    "                \"type\": \"object\",\n",
    "                \"properties\": {\n",
    "                    \"city\": {\n",
    "                        \"type\": \"string\",\n",
    "                        \"description\": \"The name of the city to get the weather of.\",\n",
    "                    }\n",
    "                },\n",
    "                \"required\": [\"city\"],\n",
    "            },\n",
    "        },\n",
    "    }\n",
    "]"
   ]
  },
  {
   "cell_type": "code",
   "execution_count": 21,
   "id": "01c3b472",
   "metadata": {},
   "outputs": [],
   "source": [
    "from openai.types.chat import ChatCompletionMessage\n",
    "\n",
    "\n",
    "def process_ai_response(message: ChatCompletionMessage):\n",
    "\n",
    "    if message.tool_calls:\n",
    "        messages.append(\n",
    "            {\n",
    "                \"role\": \"assistant\",\n",
    "                \"content\": message.content or \"\",\n",
    "                \"tool_calls\": [\n",
    "                    {\n",
    "                        \"id\": tool_call.id,\n",
    "                        \"type\": \"function\",\n",
    "                        \"function\": {\n",
    "                            \"name\": tool_call.function.name,\n",
    "                            \"arguments\": tool_call.function.arguments,\n",
    "                        },\n",
    "                    }\n",
    "                    for tool_call in message.tool_calls\n",
    "                ],\n",
    "            }\n",
    "        )\n",
    "\n",
    "        for tool_call in message.tool_calls:\n",
    "            function_name = tool_call.function.name\n",
    "            arguments = tool_call.function.arguments\n",
    "\n",
    "            print(f\"Calling function: {function_name} with {arguments}\")\n",
    "\n",
    "            try:\n",
    "                arguments = json.loads(arguments)\n",
    "            except json.JSONDecodeError:\n",
    "                arguments = {}\n",
    "\n",
    "            function_to_run = FUNCTION_MAP.get(function_name)\n",
    "\n",
    "            result = function_to_run(**arguments)\n",
    "\n",
    "            print(f\"Ran {function_name} with args {arguments} for a result of {result}\")\n",
    "\n",
    "            messages.append(\n",
    "                {\n",
    "                    \"role\": \"tool\",\n",
    "                    \"tool_call_id\": tool_call.id,\n",
    "                    \"name\": function_name,\n",
    "                    \"content\": result,\n",
    "                }\n",
    "            )\n",
    "\n",
    "        call_ai()\n",
    "    else:\n",
    "        messages.append({\"role\": \"assistant\", \"content\": message.content})\n",
    "        print(f\"AI: {message.content}\")\n",
    "\n",
    "\n",
    "def call_ai():\n",
    "    response = client.chat.completions.create(\n",
    "        model=\"gpt-4o-mini\",\n",
    "        messages=messages,\n",
    "        tools=TOOLS,\n",
    "    )\n",
    "    process_ai_response(response.choices[0].message)"
   ]
  },
  {
   "cell_type": "code",
   "execution_count": 22,
   "id": "783bab89",
   "metadata": {},
   "outputs": [
    {
     "name": "stdout",
     "output_type": "stream",
     "text": [
      "User: My name is Nico\n",
      "AI: Hello, Nico! How can I assist you today?\n",
      "User: What is my name\n",
      "AI: Your name is Nico.\n",
      "User: What is the weather in Spain\n",
      "Calling function: get_weather with {\"city\":\"Spain\"}\n",
      "Ran get_weather with args {'city': 'Spain'} for a result of 33 degrees celcius.\n",
      "AI: The weather in Spain is 33 degrees Celsius. If you need more specific weather details for a particular city or region in Spain, just let me know!\n"
     ]
    }
   ],
   "source": [
    "while True:\n",
    "    message = input(\"Send a message to the LLM...\")\n",
    "    if message == \"quit\" or message == \"q\":\n",
    "        break\n",
    "    else:\n",
    "        messages.append({\"role\": \"user\", \"content\": message})\n",
    "        print(f\"User: {message}\")\n",
    "        call_ai()"
   ]
  },
  {
   "cell_type": "code",
   "execution_count": 23,
   "id": "1d09cf3d",
   "metadata": {},
   "outputs": [
    {
     "data": {
      "text/plain": [
       "[{'role': 'user', 'content': 'My name is Nico'},\n",
       " {'role': 'user', 'content': 'My name is Nico'},\n",
       " {'role': 'assistant', 'content': 'Hello, Nico! How can I assist you today?'},\n",
       " {'role': 'user', 'content': 'What is my name'},\n",
       " {'role': 'assistant', 'content': 'Your name is Nico.'},\n",
       " {'role': 'user', 'content': 'What is the weather in Spain'},\n",
       " {'role': 'assistant',\n",
       "  'content': '',\n",
       "  'tool_calls': [{'id': 'call_za6hozI93riBO1tzf0gdPOwt',\n",
       "    'type': 'function',\n",
       "    'function': {'name': 'get_weather', 'arguments': '{\"city\":\"Spain\"}'}}]},\n",
       " {'role': 'tool',\n",
       "  'tool_call_id': 'call_za6hozI93riBO1tzf0gdPOwt',\n",
       "  'name': 'get_weather',\n",
       "  'content': '33 degrees celcius.'},\n",
       " {'role': 'assistant',\n",
       "  'content': 'The weather in Spain is 33 degrees Celsius. If you need more specific weather details for a particular city or region in Spain, just let me know!'}]"
      ]
     },
     "execution_count": 23,
     "metadata": {},
     "output_type": "execute_result"
    }
   ],
   "source": [
    "messages"
   ]
  }
 ],
 "metadata": {
  "kernelspec": {
   "display_name": ".venv",
   "language": "python",
   "name": "python3"
  },
  "language_info": {
   "codemirror_mode": {
    "name": "ipython",
    "version": 3
   },
   "file_extension": ".py",
   "mimetype": "text/x-python",
   "name": "python",
   "nbconvert_exporter": "python",
   "pygments_lexer": "ipython3",
   "version": "3.13.3"
  }
 },
 "nbformat": 4,
 "nbformat_minor": 5
}
