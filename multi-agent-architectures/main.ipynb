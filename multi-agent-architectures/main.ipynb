{
 "cells": [
  {
   "cell_type": "code",
   "execution_count": 1,
   "id": "9c5218e1",
   "metadata": {},
   "outputs": [],
   "source": [
    "from langgraph.graph import StateGraph, START, END\n",
    "from langgraph.types import Command\n",
    "from langgraph.graph.message import MessagesState\n",
    "from langgraph.prebuilt import ToolNode, tools_condition\n",
    "from langchain_core.tools import tool\n",
    "from langchain.chat_models import init_chat_model"
   ]
  },
  {
   "cell_type": "code",
   "execution_count": 2,
   "id": "0c219f70",
   "metadata": {},
   "outputs": [],
   "source": [
    "class AgentsState(MessagesState):\n",
    "    current_agent: str\n",
    "    transfered_by: str\n",
    "\n",
    "\n",
    "llm = init_chat_model(\"openai:gpt-4o\")"
   ]
  },
  {
   "cell_type": "code",
   "execution_count": 3,
   "id": "7101e3f7",
   "metadata": {},
   "outputs": [],
   "source": [
    "def make_agent(prompt, tools):\n",
    "\n",
    "    def agent_node(state: AgentsState):\n",
    "        llm_with_tools = llm.bind_tools(tools)\n",
    "        response = llm_with_tools.invoke(\n",
    "            f\"\"\"\n",
    "        {prompt}\n",
    "\n",
    "        You have a tool called 'handoff_tool' use it to transfer to other agent, don't use it to transfer to yourself.\n",
    "\n",
    "        Conversation History:\n",
    "        {state[\"messages\"]}\n",
    "        \"\"\"\n",
    "        )\n",
    "        return {\"messages\": [response]}\n",
    "\n",
    "    agent_builder = StateGraph(AgentsState)\n",
    "\n",
    "    agent_builder.add_node(\"agent\", agent_node)\n",
    "    agent_builder.add_node(\n",
    "        \"tools\",\n",
    "        ToolNode(tools=tools),\n",
    "    )\n",
    "\n",
    "    agent_builder.add_edge(START, \"agent\")\n",
    "    agent_builder.add_conditional_edges(\"agent\", tools_condition)\n",
    "    agent_builder.add_edge(\"tools\", \"agent\")\n",
    "    agent_builder.add_edge(\"agent\", END)\n",
    "\n",
    "    return agent_builder.compile()"
   ]
  },
  {
   "cell_type": "code",
   "execution_count": 4,
   "id": "fb0393b5",
   "metadata": {},
   "outputs": [],
   "source": [
    "@tool\n",
    "def handoff_tool(transfer_to: str, transfered_by: str):\n",
    "    \"\"\"\n",
    "    Handoff to another agent.\n",
    "\n",
    "    Use this tool when the customer speaks a language that you don't understand.\n",
    "\n",
    "    Possible values for `transfer_to`:\n",
    "    - `korean_agent`\n",
    "    - `greek_agent`\n",
    "    - `spanish_agent`\n",
    "\n",
    "    Possible values for `transfered_by`:\n",
    "    - `korean_agent`\n",
    "    - `greek_agent`\n",
    "    - `spanish_agent`\n",
    "\n",
    "    Args:\n",
    "        transfer_to: The agent to transfer the conversation to\n",
    "        transfered_by: The agent that transferred the conversation\n",
    "    \"\"\"\n",
    "    if transfer_to == transfered_by:\n",
    "        return {\n",
    "            \"error\": \"Stop trying to transfer to yourself and answer the question or i will fire you.\"\n",
    "        }\n",
    "\n",
    "    return Command(\n",
    "        update={\n",
    "            \"current_agent\": transfer_to,\n",
    "            \"transfered_by\": transfered_by,\n",
    "        },\n",
    "        goto=transfer_to,\n",
    "        graph=Command.PARENT,\n",
    "    )"
   ]
  },
  {
   "cell_type": "code",
   "execution_count": 5,
   "id": "7a85a137",
   "metadata": {},
   "outputs": [],
   "source": [
    "graph_builder = StateGraph(AgentsState)\n",
    "\n",
    "graph_builder.add_node(\n",
    "    \"korean_agent\",\n",
    "    make_agent(\n",
    "        prompt=\"You're a Korean customer support agent. You only speak and understand Korean.\",\n",
    "        tools=[handoff_tool],\n",
    "    ),\n",
    ")\n",
    "graph_builder.add_node(\n",
    "    \"greek_agent\",\n",
    "    make_agent(\n",
    "        prompt=\"You're a Greek customer support agent. You only speak and understand Greek.\",\n",
    "        tools=[handoff_tool],\n",
    "    ),\n",
    ")\n",
    "graph_builder.add_node(\n",
    "    \"spanish_agent\",\n",
    "    make_agent(\n",
    "        prompt=\"You're a Spanish customer support agent. You only speak and understand Spanish.\",\n",
    "        tools=[handoff_tool],\n",
    "    ),\n",
    ")\n",
    "\n",
    "graph_builder.add_edge(START, \"korean_agent\")\n",
    "\n",
    "graph = graph_builder.compile()"
   ]
  },
  {
   "cell_type": "code",
   "execution_count": 6,
   "id": "c7db0b99",
   "metadata": {},
   "outputs": [
    {
     "name": "stdout",
     "output_type": "stream",
     "text": [
      "{'korean_agent': {'current_agent': 'spanish_agent', 'transfered_by': 'korean_agent'}}\n",
      "{'spanish_agent': {'messages': [HumanMessage(content='Hola! Necesito ayuda con mi cuenta.', additional_kwargs={}, response_metadata={}, id='fb78fa46-6b3a-48f5-8fdb-76688143431d'), AIMessage(content='¡Hola! Claro, estoy aquí para ayudarte con tu cuenta. ¿Cuál es el problema específico que estás experimentando?', additional_kwargs={'refusal': None}, response_metadata={'token_usage': {'completion_tokens': 25, 'prompt_tokens': 244, 'total_tokens': 269, 'completion_tokens_details': {'accepted_prediction_tokens': 0, 'audio_tokens': 0, 'reasoning_tokens': 0, 'rejected_prediction_tokens': 0}, 'prompt_tokens_details': {'audio_tokens': 0, 'cached_tokens': 0}}, 'model_name': 'gpt-4o-2024-08-06', 'system_fingerprint': 'fp_f33640a400', 'id': 'chatcmpl-CLWbSCn567r3OoiwjeS0S4vMLirrO', 'service_tier': 'default', 'finish_reason': 'stop', 'logprobs': None}, id='run--0e31bbf1-b120-4992-bed7-cd26b4665a76-0', usage_metadata={'input_tokens': 244, 'output_tokens': 25, 'total_tokens': 269, 'input_token_details': {'audio': 0, 'cache_read': 0}, 'output_token_details': {'audio': 0, 'reasoning': 0}})], 'current_agent': 'spanish_agent', 'transfered_by': 'korean_agent'}}\n"
     ]
    }
   ],
   "source": [
    "for event in graph.stream(\n",
    "    {\n",
    "        \"messages\": [\n",
    "            {\n",
    "                \"role\": \"user\",\n",
    "                \"content\": \"Hola! Necesito ayuda con mi cuenta.\",\n",
    "            }\n",
    "        ]\n",
    "    },\n",
    "    stream_mode=\"updates\",\n",
    "):\n",
    "    print(event)"
   ]
  }
 ],
 "metadata": {
  "kernelspec": {
   "display_name": ".venv",
   "language": "python",
   "name": "python3"
  },
  "language_info": {
   "codemirror_mode": {
    "name": "ipython",
    "version": 3
   },
   "file_extension": ".py",
   "mimetype": "text/x-python",
   "name": "python",
   "nbconvert_exporter": "python",
   "pygments_lexer": "ipython3",
   "version": "3.13.3"
  }
 },
 "nbformat": 4,
 "nbformat_minor": 5
}
