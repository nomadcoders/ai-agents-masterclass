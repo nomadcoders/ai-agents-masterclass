{
 "cells": [
  {
   "cell_type": "code",
   "execution_count": 26,
   "id": "635c28c6",
   "metadata": {},
   "outputs": [],
   "source": [
    "from agents import Agent, Runner, function_tool, SQLiteSession\n",
    "\n",
    "session = SQLiteSession(\"user_1\", \"ai-memory.db\")\n",
    "\n",
    "\n",
    "@function_tool\n",
    "def get_weather(city: str):\n",
    "    \"\"\"Get weather by city\"\"\"\n",
    "    return \"30 degrees\"\n",
    "\n",
    "\n",
    "agent = Agent(\n",
    "    name=\"Assistant Agent\",\n",
    "    instructions=\"You are a helpful assistant. Use tools when needed to answer questions\",\n",
    "    tools=[get_weather],\n",
    ")"
   ]
  },
  {
   "cell_type": "code",
   "execution_count": 22,
   "id": "7401c8ff",
   "metadata": {},
   "outputs": [
    {
     "name": "stdout",
     "output_type": "stream",
     "text": [
      "Your name is Sam.\n"
     ]
    }
   ],
   "source": [
    "result = await Runner.run(\n",
    "    agent,\n",
    "    \"What was my name again?\",\n",
    "    session=session,\n",
    ")\n",
    "\n",
    "print(result.final_output)"
   ]
  },
  {
   "cell_type": "code",
   "execution_count": 27,
   "id": "f76a5abb",
   "metadata": {},
   "outputs": [
    {
     "data": {
      "text/plain": [
       "[{'content': 'Hello how are you? My name is Nico', 'role': 'user'},\n",
       " {'id': 'msg_689c9cf0dd94819ebc620cf71aab2a030ecf9a34e4f3a278',\n",
       "  'content': [{'annotations': [],\n",
       "    'text': \"Hello Nico! I'm here to help you with anything you need. How can I assist you today?\",\n",
       "    'type': 'output_text',\n",
       "    'logprobs': []}],\n",
       "  'role': 'assistant',\n",
       "  'status': 'completed',\n",
       "  'type': 'message'},\n",
       " {'content': 'I live in Spain', 'role': 'user'},\n",
       " {'id': 'msg_689c9d013ec0819e80c68f1136c3c5800ecf9a34e4f3a278',\n",
       "  'content': [{'annotations': [],\n",
       "    'text': \"That's great! Spain is a beautiful country. Do you have any specific questions or need information about Spain?\",\n",
       "    'type': 'output_text',\n",
       "    'logprobs': []}],\n",
       "  'role': 'assistant',\n",
       "  'status': 'completed',\n",
       "  'type': 'message'},\n",
       " {'content': 'What is the weather in the third biggest city of the country i live on',\n",
       "  'role': 'user'},\n",
       " {'arguments': '{\"city\":\"Valencia\"}',\n",
       "  'call_id': 'call_vCYicFVcC9mV96REwsCoBVPF',\n",
       "  'name': 'get_weather',\n",
       "  'type': 'function_call',\n",
       "  'id': 'fc_689c9d167048819eac73b0a890441d640ecf9a34e4f3a278',\n",
       "  'status': 'completed'},\n",
       " {'call_id': 'call_vCYicFVcC9mV96REwsCoBVPF',\n",
       "  'output': '30 degrees',\n",
       "  'type': 'function_call_output'},\n",
       " {'id': 'msg_689c9d17c7bc819ebc599a3656df89350ecf9a34e4f3a278',\n",
       "  'content': [{'annotations': [],\n",
       "    'text': \"The weather in Valencia, the third largest city in Spain, is currently 30 degrees Celsius. Is there anything else you'd like to know?\",\n",
       "    'type': 'output_text',\n",
       "    'logprobs': []}],\n",
       "  'role': 'assistant',\n",
       "  'status': 'completed',\n",
       "  'type': 'message'},\n",
       " {'content': 'What was my name again?', 'role': 'user'},\n",
       " {'id': 'msg_689c9d2d08cc819ea7978ae269e98b2d0ecf9a34e4f3a278',\n",
       "  'content': [{'annotations': [],\n",
       "    'text': 'Your name is Nico.',\n",
       "    'type': 'output_text',\n",
       "    'logprobs': []}],\n",
       "  'role': 'assistant',\n",
       "  'status': 'completed',\n",
       "  'type': 'message'}]"
      ]
     },
     "execution_count": 27,
     "metadata": {},
     "output_type": "execute_result"
    }
   ],
   "source": [
    "await session.get_items()"
   ]
  }
 ],
 "metadata": {
  "kernelspec": {
   "display_name": ".venv",
   "language": "python",
   "name": "python3"
  },
  "language_info": {
   "codemirror_mode": {
    "name": "ipython",
    "version": 3
   },
   "file_extension": ".py",
   "mimetype": "text/x-python",
   "name": "python",
   "nbconvert_exporter": "python",
   "pygments_lexer": "ipython3",
   "version": "3.13.3"
  }
 },
 "nbformat": 4,
 "nbformat_minor": 5
}
