{
 "cells": [
  {
   "cell_type": "code",
   "execution_count": 32,
   "id": "635c28c6",
   "metadata": {},
   "outputs": [],
   "source": [
    "from agents import Agent, Runner, SQLiteSession\n",
    "\n",
    "session = SQLiteSession(\"user_1\", \"ai-memory.db\")\n",
    "\n",
    "\n",
    "geaography_agent = Agent(\n",
    "    name=\"Geo Expert Agent\",\n",
    "    instructions=\"You are a expert in geography, you answer questions related to them.\",\n",
    "    handoff_description=\"Use this to answer geography related questions.\",\n",
    ")\n",
    "economics_agent = Agent(\n",
    "    name=\"Economics Expert Agent\",\n",
    "    instructions=\"You are a expert in economics, you answer questions related to them.\",\n",
    "    handoff_description=\"Use this to answer economics questions.\",\n",
    ")\n",
    "\n",
    "main_agent = Agent(\n",
    "    name=\"Main Agent\",\n",
    "    instructions=\"You are a user facing agent. Transfer to the agent most capable of answering the user's question.\",\n",
    "    handoffs=[\n",
    "        economics_agent,\n",
    "        geaography_agent,\n",
    "    ],\n",
    ")"
   ]
  },
  {
   "cell_type": "code",
   "execution_count": 34,
   "id": "7401c8ff",
   "metadata": {},
   "outputs": [
    {
     "name": "stdout",
     "output_type": "stream",
     "text": [
      "Economics Expert Agent\n",
      "Countries sell bonds as a way to raise funds for various purposes. Here are some key reasons:\n",
      "\n",
      "1. **Financing Deficits**: Governments often spend more than they earn in revenue through taxes and other sources. Bonds provide a way to cover budget deficits.\n",
      "\n",
      "2. **Public Investment**: Funds from bonds can be used for infrastructure projects, such as building roads, schools, and hospitals, which are crucial for economic development.\n",
      "\n",
      "3. **Managing Economic Policy**: By controlling the supply and demand for bonds, governments can influence interest rates and economic growth as part of broader monetary policy.\n",
      "\n",
      "4. **Stabilizing the Economy**: In times of economic downturn, bonds can be a tool to inject liquidity into the economy and stimulate growth.\n",
      "\n",
      "5. **Funding Specific Projects**: Governments may issue bonds to finance large projects or initiatives, like environmental projects or social programs. \n",
      "\n",
      "Bonds are a key component of a country's financial strategy and fiscal policy.\n"
     ]
    }
   ],
   "source": [
    "result = await Runner.run(\n",
    "    main_agent,\n",
    "    \"Why do countries sell bonds?\",\n",
    "    session=session,\n",
    ")\n",
    "\n",
    "print(result.last_agent.name)\n",
    "print(result.final_output)"
   ]
  }
 ],
 "metadata": {
  "kernelspec": {
   "display_name": ".venv",
   "language": "python",
   "name": "python3"
  },
  "language_info": {
   "codemirror_mode": {
    "name": "ipython",
    "version": 3
   },
   "file_extension": ".py",
   "mimetype": "text/x-python",
   "name": "python",
   "nbconvert_exporter": "python",
   "pygments_lexer": "ipython3",
   "version": "3.13.3"
  }
 },
 "nbformat": 4,
 "nbformat_minor": 5
}
