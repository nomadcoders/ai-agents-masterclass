{
 "cells": [
  {
   "cell_type": "code",
   "execution_count": 16,
   "id": "635c28c6",
   "metadata": {},
   "outputs": [],
   "source": [
    "from agents import Agent, Runner, SQLiteSession, function_tool, trace\n",
    "from agents.extensions.visualization import draw_graph\n",
    "from pydantic import BaseModel\n",
    "\n",
    "session = SQLiteSession(\"user_111111\", \"ai-memory.db\")\n",
    "\n",
    "\n",
    "class Answer(BaseModel):\n",
    "    answer: str\n",
    "    background_explanation: str\n",
    "\n",
    "\n",
    "@function_tool\n",
    "def get_weather():\n",
    "    return \"30\"\n",
    "\n",
    "\n",
    "geaography_agent = Agent(\n",
    "    name=\"Geo Expert Agent\",\n",
    "    instructions=\"You are a expert in geography, you answer questions related to them.\",\n",
    "    handoff_description=\"Use this to answer geography related questions.\",\n",
    "    tools=[\n",
    "        get_weather,\n",
    "    ],\n",
    "    output_type=Answer,\n",
    ")\n",
    "economics_agent = Agent(\n",
    "    name=\"Economics Expert Agent\",\n",
    "    instructions=\"You are a expert in economics, you answer questions related to them.\",\n",
    "    handoff_description=\"Use this to answer economics questions.\",\n",
    ")\n",
    "\n",
    "main_agent = Agent(\n",
    "    name=\"Main Agent\",\n",
    "    instructions=\"You are a user facing agent. Transfer to the agent most capable of answering the user's question.\",\n",
    "    handoffs=[\n",
    "        economics_agent,\n",
    "        geaography_agent,\n",
    "    ],\n",
    ")\n",
    "\n",
    "# draw_graph(main_agent)"
   ]
  },
  {
   "cell_type": "code",
   "execution_count": 17,
   "id": "7401c8ff",
   "metadata": {},
   "outputs": [],
   "source": [
    "with trace(\"user_111111\"):\n",
    "    result = await Runner.run(\n",
    "        main_agent,\n",
    "        \"What is the capital of Colombia's northen province.\",\n",
    "        session=session,\n",
    "    )\n",
    "    result = await Runner.run(\n",
    "        main_agent,\n",
    "        \"What is the capital of Cambodia's northen province.\",\n",
    "        session=session,\n",
    "    )\n",
    "    result = await Runner.run(\n",
    "        main_agent,\n",
    "        \"What is the capital of Thailand's northen province.\",\n",
    "        session=session,\n",
    "    )"
   ]
  }
 ],
 "metadata": {
  "kernelspec": {
   "display_name": ".venv",
   "language": "python",
   "name": "python3"
  },
  "language_info": {
   "codemirror_mode": {
    "name": "ipython",
    "version": 3
   },
   "file_extension": ".py",
   "mimetype": "text/x-python",
   "name": "python",
   "nbconvert_exporter": "python",
   "pygments_lexer": "ipython3",
   "version": "3.13.3"
  }
 },
 "nbformat": 4,
 "nbformat_minor": 5
}
