{
 "cells": [
  {
   "cell_type": "code",
   "execution_count": 7,
   "id": "d7585d78",
   "metadata": {},
   "outputs": [],
   "source": [
    "from typing_extensions import TypedDict\n",
    "from typing import List\n",
    "from langgraph.graph import StateGraph, START, END\n",
    "from langchain.chat_models import init_chat_model\n",
    "from pydantic import BaseModel\n",
    "\n",
    "llm = init_chat_model(\"openai:gpt-4o\")"
   ]
  },
  {
   "cell_type": "code",
   "execution_count": 8,
   "id": "ee144aee",
   "metadata": {},
   "outputs": [],
   "source": [
    "class State(TypedDict):\n",
    "\n",
    "    dish: str\n",
    "    ingredients: list[dict]\n",
    "    recipe_steps: str\n",
    "    plating_instructions: str\n",
    "\n",
    "\n",
    "class Ingredient(BaseModel):\n",
    "\n",
    "    name: str\n",
    "    quantity: str\n",
    "    unit: str\n",
    "\n",
    "\n",
    "class IngredientsOutput(BaseModel):\n",
    "\n",
    "    ingredients: List[Ingredient]"
   ]
  },
  {
   "cell_type": "code",
   "execution_count": 9,
   "id": "0b0cc788",
   "metadata": {},
   "outputs": [],
   "source": [
    "def list_ingredients(state: State):\n",
    "    structured_llm = llm.with_structured_output(IngredientsOutput)\n",
    "    response = structured_llm.invoke(\n",
    "        f\"List 5-8 ingredients needed to make {state['dish']}\"\n",
    "    )\n",
    "    return {\n",
    "        \"ingredients\": response.ingredients,\n",
    "    }\n",
    "\n",
    "\n",
    "def create_recipe(state: State):\n",
    "    response = llm.invoke(\n",
    "        f\"Write a step by step cooking instruction for {state[\"dish\"]}, using these ingredients {state['ingredients']}\",\n",
    "    )\n",
    "    return {\n",
    "        \"recipe_steps\": response.content,\n",
    "    }\n",
    "\n",
    "\n",
    "def describe_plating(state: State):\n",
    "    response = llm.invoke(\n",
    "        f\"Describe how to beautifully plate this dish {state[\"dish\"]} based on this recipe {state[\"recipe_steps\"]}\"\n",
    "    )\n",
    "    return {\n",
    "        \"plating_instructions\": response.content,\n",
    "    }"
   ]
  },
  {
   "cell_type": "code",
   "execution_count": 10,
   "id": "e2b46b71",
   "metadata": {},
   "outputs": [],
   "source": [
    "graph_builder = StateGraph(State)\n",
    "\n",
    "graph_builder.add_node(\"list_ingredients\", list_ingredients)\n",
    "graph_builder.add_node(\"create_recipe\", create_recipe)\n",
    "graph_builder.add_node(\"describe_plating\", describe_plating)\n",
    "\n",
    "graph_builder.add_edge(START, \"list_ingredients\")\n",
    "graph_builder.add_edge(\"list_ingredients\", \"create_recipe\")\n",
    "graph_builder.add_edge(\"create_recipe\", \"describe_plating\")\n",
    "graph_builder.add_edge(\"describe_plating\", END)\n",
    "\n",
    "graph = graph_builder.compile()"
   ]
  },
  {
   "cell_type": "code",
   "execution_count": 11,
   "id": "f1eb7cf4",
   "metadata": {},
   "outputs": [
    {
     "data": {
      "text/plain": [
       "{'dish': 'hummus',\n",
       " 'ingredients': [Ingredient(name='Chickpeas', quantity='1', unit='cup'),\n",
       "  Ingredient(name='Tahini', quantity='1/4', unit='cup'),\n",
       "  Ingredient(name='Olive Oil', quantity='2', unit='tablespoons'),\n",
       "  Ingredient(name='Lemon Juice', quantity='2', unit='tablespoons'),\n",
       "  Ingredient(name='Garlic', quantity='1-2', unit='cloves'),\n",
       "  Ingredient(name='Salt', quantity='1/2', unit='teaspoon'),\n",
       "  Ingredient(name='Cumin', quantity='1/2', unit='teaspoon'),\n",
       "  Ingredient(name='Water', quantity='2-4', unit='tablespoons')],\n",
       " 'recipe_steps': \"Here's a step-by-step guide to preparing delicious hummus using the provided ingredients:\\n\\n**Ingredients:**\\n- Chickpeas: 1 cup (cooked or canned)\\n- Tahini: 1/4 cup\\n- Olive Oil: 2 tablespoons\\n- Lemon Juice: 2 tablespoons\\n- Garlic: 1-2 cloves\\n- Salt: 1/2 teaspoon\\n- Cumin: 1/2 teaspoon\\n- Water: 2-4 tablespoons\\n\\n**Instructions:**\\n\\n1. **Prepare the Chickpeas:**\\n   - If using canned chickpeas, drain and rinse them thoroughly under cold water. This helps remove excess sodium and any canning liquid.\\n   - If using dried chickpeas, ensure they are cooked until tender. To cook, soak 1 cup of dried chickpeas overnight and then boil them for about 1-2 hours until soft.\\n\\n2. **Prepare the Garlic:**\\n   - Peel 1-2 cloves of garlic. For a milder flavor, you can use just one clove, but if you prefer a stronger garlic taste, use two.\\n\\n3. **Blend the Ingredients:**\\n   - In a food processor or blender, combine the chickpeas, tahini, olive oil, lemon juice, garlic, salt, and cumin.\\n\\n4. **Add Water:**\\n   - Start by adding 2 tablespoons of water to the mixture. This helps the blending process and creates a smoother texture.\\n   - Blend the mixture until smooth. If the hummus is too thick or the blender is struggling, gradually add more water, one tablespoon at a time, until the desired consistency is reached.\\n\\n5. **Check the Seasoning:**\\n   - Taste the hummus and adjust the seasoning if needed. You can add more salt, lemon juice, or cumin to suit your taste preferences.\\n\\n6. **Blend Again:**\\n   - Blend the mixture one more time to ensure everything is well combined and the texture is creamy.\\n\\n7. **Serve:**\\n   - Transfer the hummus to a serving bowl. For garnish, you can drizzle a little olive oil on top and sprinkle with paprika, chopped parsley, or a few whole chickpeas if desired.\\n\\n8. **Enjoy:**\\n   - Serve your homemade hummus with pita bread, fresh vegetables, or as a spread on sandwiches. Enjoy!\\n\\nStoring leftovers: Keep any leftover hummus in an airtight container in the refrigerator for up to a week. Stir before serving as it might thicken a little in the fridge.\",\n",
       " 'plating_instructions': 'To beautifully plate your homemade hummus, follow these steps to create an appealing presentation that enhances the dining experience:\\n\\n1. **Choose the Right Dish:**\\n   - Select a shallow, wide bowl or plate. This allows you to spread the hummus and create space for garnishing.\\n\\n2. **Spread the Hummus:**\\n   - Spoon the hummus into the center of your chosen dish.\\n   - Using the back of a spoon, create a smooth, even layer by spreading the hummus from the center towards the edges, leaving a slight dip in the middle. This helps hold any oil or toppings.\\n\\n3. **Create Texture:**\\n   - Use the spoon or your fingers to make gentle swirls, waves, or a spiral pattern in the hummus. This adds visual interest and guides the eye around the plate.\\n\\n4. **Drizzle with Olive Oil:**\\n   - Pour high-quality olive oil into the dip you created. A generous drizzle not only looks appealing but also adds flavor.\\n\\n5. **Throw in Some Color:**\\n   - Sprinkle a pinch of paprika or smoked paprika over the hummus for a pop of color. Focus on the center or create a circle around the edge.\\n   - If desired, add a touch of sumac or za’atar for additional flavor and visual contrast.\\n\\n6. **Add Fresh Herbs:**\\n   - Chop fresh parsley or cilantro finely and sprinkle it over the top. Alternatively, place a small sprig of herbs in the center or offset to one side for an elegant touch.\\n\\n7. **Garnish with Whole Chickpeas:**\\n   - Scatter a few whole, cooked chickpeas in the center or arrange them in a ring around the oil. This adds texture and visual interest.\\n\\n8. **Finish with Extras:**\\n   - Consider adding thinly sliced radishes, pomegranate seeds, or toasted pine nuts for added color and texture.\\n\\n9. **Serve with Style:**\\n   - Arrange pita bread wedges and fresh vegetable sticks (like cucumber, carrot, or bell pepper) artfully around the hummus or in a separate basket.\\n\\n10. **Final Touch:**\\n    - To bring everything together, wipe any edges of the plate that may have smudges for a clean, restaurant-quality finish.\\n\\nThis thoughtful plating not only enhances the appearance but also invites your guests to indulge in the creamy, flavorful hummus you’ve prepared.'}"
      ]
     },
     "execution_count": 11,
     "metadata": {},
     "output_type": "execute_result"
    }
   ],
   "source": [
    "graph.invoke({\"dish\": \"hummus\"})"
   ]
  }
 ],
 "metadata": {
  "kernelspec": {
   "display_name": ".venv",
   "language": "python",
   "name": "python3"
  },
  "language_info": {
   "codemirror_mode": {
    "name": "ipython",
    "version": 3
   },
   "file_extension": ".py",
   "mimetype": "text/x-python",
   "name": "python",
   "nbconvert_exporter": "python",
   "pygments_lexer": "ipython3",
   "version": "3.13.3"
  }
 },
 "nbformat": 4,
 "nbformat_minor": 5
}
