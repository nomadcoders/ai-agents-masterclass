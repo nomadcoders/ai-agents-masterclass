{
 "cells": [
  {
   "cell_type": "code",
   "execution_count": 21,
   "id": "d7585d78",
   "metadata": {},
   "outputs": [],
   "source": [
    "from typing_extensions import TypedDict, Literal\n",
    "from typing import List\n",
    "from langgraph.types import Command\n",
    "from langgraph.graph import StateGraph, START, END\n",
    "from langchain.chat_models import init_chat_model\n",
    "from pydantic import BaseModel\n",
    "\n",
    "llm = init_chat_model(\"openai:gpt-4o\")"
   ]
  },
  {
   "cell_type": "code",
   "execution_count": 22,
   "id": "ee144aee",
   "metadata": {},
   "outputs": [],
   "source": [
    "class State(TypedDict):\n",
    "\n",
    "    document: str\n",
    "    summary: str\n",
    "    sentiment: str\n",
    "    key_points: str\n",
    "    recommendation: str\n",
    "    final_analysis: str"
   ]
  },
  {
   "cell_type": "code",
   "execution_count": 23,
   "id": "0b0cc788",
   "metadata": {},
   "outputs": [],
   "source": [
    "def get_summary(state: State):\n",
    "    response = llm.invoke(\n",
    "        f\"Write a 3-sentence summary of this document {state[\"document\"]}\"\n",
    "    )\n",
    "    return {\n",
    "        \"summary\": response.content,\n",
    "    }\n",
    "\n",
    "\n",
    "def get_sentiment(state: State):\n",
    "    response = llm.invoke(\n",
    "        f\"Analyse the sentiment and tone of this document {state[\"document\"]}\"\n",
    "    )\n",
    "    return {\n",
    "        \"sentiment\": response.content,\n",
    "    }\n",
    "\n",
    "\n",
    "def get_key_points(state: State):\n",
    "    response = llm.invoke(\n",
    "        f\"List the 5 most important points of this document {state[\"document\"]}\"\n",
    "    )\n",
    "    return {\n",
    "        \"key_points\": response.content,\n",
    "    }\n",
    "\n",
    "\n",
    "def get_recommendation(state: State):\n",
    "    response = llm.invoke(\n",
    "        f\"Based on the document, list 3 recommended next steps {state[\"document\"]}\"\n",
    "    )\n",
    "    return {\n",
    "        \"recommendation\": response.content,\n",
    "    }\n",
    "\n",
    "\n",
    "def get_final_analysis(state: State):\n",
    "    response = llm.invoke(\n",
    "        f\"\"\"\n",
    "    Give me an analysis of the following report\n",
    "\n",
    "    DOCUMENT ANALYSIS REPORT\n",
    "    ========================\n",
    "\n",
    "    EXECUTIVE SUMMARY:\n",
    "    {state['summary']}\n",
    "\n",
    "    SENTIMENT ANALYSIS:\n",
    "    {state['sentiment']}\n",
    "\n",
    "    KEY POINTS:\n",
    "    {state.get(\"key_points\", \"\")}\n",
    "\n",
    "    RECOMMENDATIONS:\n",
    "    {state.get('recommendation', \"N/A\")}\n",
    "    \"\"\"\n",
    "    )\n",
    "    return {\n",
    "        \"final_analysis\": response.content,\n",
    "    }"
   ]
  },
  {
   "cell_type": "code",
   "execution_count": 24,
   "id": "e2b46b71",
   "metadata": {},
   "outputs": [],
   "source": [
    "graph_builder = StateGraph(State)\n",
    "\n",
    "graph_builder.add_node(\"get_summary\", get_summary)\n",
    "graph_builder.add_node(\"get_sentiment\", get_sentiment)\n",
    "graph_builder.add_node(\"get_key_points\", get_key_points)\n",
    "graph_builder.add_node(\"get_recommendation\", get_recommendation)\n",
    "graph_builder.add_node(\"get_final_analysis\", get_final_analysis)\n",
    "\n",
    "\n",
    "graph_builder.add_edge(START, \"get_summary\")\n",
    "graph_builder.add_edge(START, \"get_sentiment\")\n",
    "graph_builder.add_edge(START, \"get_key_points\")\n",
    "graph_builder.add_edge(START, \"get_recommendation\")\n",
    "\n",
    "graph_builder.add_edge(\"get_summary\", \"get_final_analysis\")\n",
    "graph_builder.add_edge(\"get_sentiment\", \"get_final_analysis\")\n",
    "graph_builder.add_edge(\"get_key_points\", \"get_final_analysis\")\n",
    "graph_builder.add_edge(\"get_recommendation\", \"get_final_analysis\")\n",
    "\n",
    "graph_builder.add_edge(\"get_final_analysis\", END)\n",
    "\n",
    "\n",
    "graph = graph_builder.compile()"
   ]
  },
  {
   "cell_type": "code",
   "execution_count": 25,
   "id": "8f16fab9",
   "metadata": {},
   "outputs": [
    {
     "name": "stdout",
     "output_type": "stream",
     "text": [
      "{'get_summary': {'summary': \"The Federal Open Market Committee (FOMC) has decided to reduce the federal funds rate by a quarter percentage point and continue decreasing its securities holdings in response to increased downside risks to employment and the recent rise in inflation, which remains elevated. The decision comes amid a moderation in economic activity, with GDP growth slowing and job gains declining, while inflation expectations are still aligned with the Federal Reserve's longer-term goal of 2%. The committee is committed to maintaining its independence and is focused on balancing its dual mandate of maximum employment and stable prices, acknowledging a complex economic environment influenced by factors like tariffs and the changing supply and demand for labor.\"}} \n",
      "\n",
      "{'get_recommendation': {'recommendation': \"Based on the document, the following are three recommended next steps for the Federal Reserve:\\n\\n1. **Continue Data-Driven Decision-Making**: The Federal Reserve should maintain its commitment to adjusting monetary policy based on incoming economic data, the evolving economic outlook, and risks to both employment and inflation. This involves closely monitoring trends in unemployment, wage growth, inflation, and key economic indicators to inform future policy actions.\\n\\n2. **Evaluate and Manage Inflation Risks**: With inflation remaining somewhat elevated and goods inflation contributing to price increases, it is crucial for the Fed to assess whether inflationary pressures might be more persistent than anticipated. This includes considering the impact of tariffs and other external factors on inflation. The Fed should continue to ensure that a one-time increase in price levels does not translate into ongoing inflation issues.\\n\\n3. **Balance Dual Mandate Goals**: As the Fed aims to achieve its dual mandate of maximum employment and stable prices, it should continue to balance the downside risks to employment with the upside risks to inflation. Given the current economic environment, the Fed may need to maintain a neutral policy stance that allows it to respond flexibly and timely to shifts in the economic landscape. This includes keeping an eye on both interest rates and the size of the Fed's balance sheet as tools to promote these goals.\"}} \n",
      "\n",
      "{'get_key_points': {'key_points': \"Based on the content of the document, here are five key points:\\n\\n1. **Monetary Policy Adjustments**: The Federal Open Market Committee (FOMC) decided to lower the target range for the federal funds rate by a quarter of a percentage point to support the goals of maximum employment and stable prices. They also decided to continue reducing securities holdings, reflecting a shift toward a more neutral policy stance in response to changing economic conditions.\\n\\n2. **Economic Activity and Inflation**: Economic activity growth has moderated, with the GDP rising at about 1.5% in the first half of the year, down from 2.5% the previous year. Inflation remains somewhat elevated, with consumer price index readings indicating higher inflation for goods, while disinflation trends are observed in services.\\n\\n3. **Labor Market Conditions**: Although the unemployment rate remains relatively low at 4.3%, job gains have slowed significantly, averaging just 29,000 per month over the past three months. Factors such as declining labor force growth due to lower immigration and participation are contributing to a softer labor market.\\n\\n4. **Risks to Economic Outlook**: There are downside risks to employment and upside risks to inflation. Uncertainties related to tariffs, government policy changes, and their impacts on the economy persist, requiring careful management to avoid more persistent inflationary pressures.\\n\\n5. **Fed's Commitment and Goals**: The Federal Reserve remains committed to its dual mandate of maximum employment and stable prices. They emphasize the importance of timely responses to economic developments based on incoming data and evolving economic outlooks, while maintaining independence and managing public perception amidst political dynamics.\"}} \n",
      "\n",
      "{'get_sentiment': {'sentiment': 'The document presents a detailed analysis of the current economic conditions and policy decisions made by the Federal Open Market Committee (FOMC) of the Federal Reserve. Here\\'s a breakdown of the overall sentiment and tone:\\n\\n1. **Tone: Objective and Analytical**\\n   - The tone of the document is formal, detailed, and analytical. It explains the rationale behind the Federal Reserve\\'s decisions, presenting data and projections to support these actions. The use of technical language and statistical data suggests an audience that is likely familiar with economic terminology and concepts.\\n\\n2. **Sentiment: Cautiously Optimistic with Concerns**\\n   - **Cautiously Optimistic**: Despite acknowledging challenges, there is a sense of cautious optimism. The document notes that the unemployment rate remains relatively low and that projections for GDP growth, although moderated, are still positive. Inflation is discussed with an acknowledgment of its recent rise, but also a confidence that longer-term expectations remain consistent with the Fed\\'s goals.\\n   - **Concerns**: There are clear concerns. The document addresses the rise in inflation and the softening labor market, with job gains not keeping pace to maintain current unemployment rates. There\\'s also a mention of the potential longer-term impacts of tariffs on the economy, reflecting some uncertainty about future economic stability.\\n\\n3. **Balanced Approach**\\n   - The document conveys a balanced approach to policymaking, emphasizing the dual mandate of maximum employment and stable prices. It discusses the rationale behind lowering interest rates and the decision to reduce securities holdings, indicating a responsive and adaptive policy stance to current economic indicators and risks.\\n\\n4. **Acknowledgment of Risks**\\n   - There is a recognition of the downside risks to employment and potential upside risks to inflation. The language used (\"challenging situation,\" \"balance of risks\") points to an environment where careful calibration of policy is necessary to navigate the uncertainties mentioned.\\n\\n5. **Focus on Future Actions**\\n   - The document also emphasizes future actions based on incoming data, showing a forward-looking perspective that highlights readiness to adjust policy as needed. It underscores the importance of continuous monitoring and flexibility in responding to evolving economic conditions.\\n\\n6. **Reassurance of Independence**\\n   - Questions about the Federal Reserve\\'s independence are addressed with reassurances that the committee remains committed to its mandate without political influence, reinforcing trust in its processes and decisions.\\n\\nIn summary, the document is assertive and conveys a professional tone, combining cautious optimism with awareness of potential economic challenges. It reflects a commitment to managing the dual objectives of the Federal Reserve while being transparent about the challenges faced.'}} \n",
      "\n",
      "{'get_final_analysis': {'final_analysis': \"The Document Analysis Report provides a comprehensive review of a Federal Open Market Committee (FOMC) report detailing recent monetary policy decisions and the economic context informing these decisions. Here's an in-depth analysis based on the provided document:\\n\\n### Executive Summary Analysis:\\n1. **Monetary Policy Changes**:\\n   - The FOMC's decision to lower the federal funds rate by 0.25 percentage points reflects an effort to mitigate downside risks to employment and address elevated inflation. This action is part of a broader strategy to manage the dual mandate of maximum employment and stable prices amidst a challenging economic environment.\\n\\n2. **Economic Context**:\\n   - The report outlines a slowing economic environment, with GDP growth decreasing and job gains diminishing. This context prompts the FOMC to adjust its monetary policy to encourage economic stability and growth.\\n\\n3. **Commitment to Independence**:\\n   - The FOMC emphasizes its commitment to maintaining independence in monetary policy decisions, which is fundamental for public trust and effective management, free from political influence.\\n\\n### Sentiment and Tone:\\n1. **Tone: Formal and Analytical**:\\n   - The report maintains a formal and analytical tone, utilizing technical and economic language suitable for stakeholders familiar with economic policy.\\n\\n2. **Sentiment: Cautiously Optimistic with Acknowledged Risks**:\\n   - While optimistic about managing inflation and employment, it acknowledges existing economic challenges and uncertainties such as tariffs and labor market dynamics, indicating a cautious yet proactive approach.\\n\\n3. **Balanced Policy Approach**:\\n   - The FOMC demonstrates a balanced approach by considering both employment and inflation risks and adjusting policy in response to current economic indicators.\\n\\n4. **Recognition of Challenges**:\\n   - The document acknowledges various risks and uncertainties affecting the economy, highlighting the need for careful policy calibration and monitoring of global and domestic economic factors.\\n\\n5. **Independence and Transparency**:\\n   - Reassures the committee's autonomy and commitment to its mandate, essential for credibility and effective economic policy implementation.\\n\\n### Key Points Analysis:\\n1. **Policy Adjustments**:\\n   - FOMC's monetary policy adjustments aim at supporting economic objectives while reflecting a neutral stance due to changing conditions.\\n\\n2. **Economic Activity and Inflation**:\\n   - Detailed observations on moderated economic growth and inflation trends support the rationale for policy adjustments, underlining the need for vigilance in monitoring economic indicators.\\n\\n3. **Labor Market Insights**:\\n   - A decrease in job gains suggests underlying issues such as reduced labor force growth, necessitating a focus on labor market resilience.\\n\\n4. **Risks to Economic Outlook**:\\n   - The document highlights various risks, including tariffs and policy changes, which could disrupt economic stability, emphasizing the importance of adaptive policy measures.\\n\\n5. **Commitment to Mandates and Independence**:\\n   - Clear emphasis on maintaining the dual mandate and independence reinforces the importance of informed and unbiased decision-making.\\n\\n### Recommendations Analysis:\\n1. **Data-Driven Policy**:\\n   - The recommendation to maintain data-driven decision-making underscores the importance of flexibility and responsiveness to real-time economic data and trends.\\n\\n2. **Inflation Risk Management**:\\n   - Emphasizes a thorough assessment of inflation risks, particularly considering external factors, ensuring long-term price stability.\\n\\n3. **Balancing Goals**:\\n   - Advises on managing employment and inflation with a neutral policy stance that supports adaptability to economic changes, balancing immediate needs with long-term goals.\\n\\n### Conclusion:\\nThe Document Analysis Report presents an insightful breakdown of the Federal Reserve's response to current economic challenges. It reflects a strategic and balanced policy approach, underpinned by a commitment to its dual mandate and independence. The recommendations align with the need for data-driven, adaptive policy measures to navigate an uncertain economic landscape effectively.\"}} \n",
      "\n"
     ]
    }
   ],
   "source": [
    "with open(\"fed_transcript.md\", \"r\", encoding=\"utf-8\") as file:\n",
    "    document = file.read()\n",
    "\n",
    "for chunk in graph.stream(\n",
    "    {\"document\": document},\n",
    "    stream_mode=\"updates\",\n",
    "):\n",
    "    print(chunk, \"\\n\")"
   ]
  }
 ],
 "metadata": {
  "kernelspec": {
   "display_name": ".venv",
   "language": "python",
   "name": "python3"
  },
  "language_info": {
   "codemirror_mode": {
    "name": "ipython",
    "version": 3
   },
   "file_extension": ".py",
   "mimetype": "text/x-python",
   "name": "python",
   "nbconvert_exporter": "python",
   "pygments_lexer": "ipython3",
   "version": "3.13.3"
  }
 },
 "nbformat": 4,
 "nbformat_minor": 5
}
