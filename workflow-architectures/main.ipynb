{
 "cells": [
  {
   "cell_type": "code",
   "execution_count": 40,
   "id": "d7585d78",
   "metadata": {},
   "outputs": [],
   "source": [
    "from typing_extensions import TypedDict, Literal\n",
    "from typing import List\n",
    "from langgraph.types import Command\n",
    "from langgraph.graph import StateGraph, START, END\n",
    "from langchain.chat_models import init_chat_model\n",
    "from pydantic import BaseModel\n",
    "\n",
    "llm = init_chat_model(\"openai:gpt-4o\")\n",
    "\n",
    "dumb_llm = init_chat_model(\"openai:gpt-3.5-turbo\")\n",
    "average_llm = init_chat_model(\"openai:gpt-4o\")\n",
    "smart_llm = init_chat_model(\"openai:gpt-5-2025-08-07\")"
   ]
  },
  {
   "cell_type": "code",
   "execution_count": 41,
   "id": "ee144aee",
   "metadata": {},
   "outputs": [],
   "source": [
    "class State(TypedDict):\n",
    "\n",
    "    question: str\n",
    "    difficulty: str\n",
    "    answer: str\n",
    "    model_used: str\n",
    "\n",
    "\n",
    "class DifficultyResponse(BaseModel):\n",
    "\n",
    "    difficulty_level: Literal[\"easy\", \"medium\", \"hard\"]"
   ]
  },
  {
   "cell_type": "code",
   "execution_count": 42,
   "id": "0b0cc788",
   "metadata": {},
   "outputs": [],
   "source": [
    "def dumb_node(state: State):\n",
    "    response = dumb_llm.invoke(state[\"question\"])\n",
    "    return {\n",
    "        \"answer\": response.content,\n",
    "        \"model_used\": \"gpt-3.5\",\n",
    "    }\n",
    "\n",
    "\n",
    "def average_node(state: State):\n",
    "    response = average_llm.invoke(state[\"question\"])\n",
    "    return {\n",
    "        \"answer\": response.content,\n",
    "        \"model_used\": \"gpt-4o\",\n",
    "    }\n",
    "\n",
    "\n",
    "def smart_node(state: State):\n",
    "    response = smart_llm.invoke(state[\"question\"])\n",
    "    return {\n",
    "        \"answer\": response.content,\n",
    "        \"model_used\": \"gpt-o3\",\n",
    "    }\n",
    "\n",
    "\n",
    "def assess_difficulty(state: State):\n",
    "    structured_llm = llm.with_structured_output(DifficultyResponse)\n",
    "\n",
    "    response = structured_llm.invoke(\n",
    "        f\"\"\"\n",
    "        Assess the difficulty of this question\n",
    "        Question: {state[\"question\"]}\n",
    "\n",
    "        - EASY: Simple facts, basic definitions, yes/no answers\n",
    "        - MEDIUM: Requires explanation, comparison, analysis\n",
    "        - HARD: Complex reasoning, multiple steps, deep expertise.\n",
    "        \"\"\"\n",
    "    )\n",
    "\n",
    "    difficulty_level = response.difficulty_level\n",
    "\n",
    "    if difficulty_level == \"easy\":\n",
    "        goto = \"dumb_node\"\n",
    "    elif difficulty_level == \"medium\":\n",
    "        goto = \"average_node\"\n",
    "    elif difficulty_level == \"hard\":\n",
    "        goto = \"smart_node\"\n",
    "\n",
    "    return Command(\n",
    "        goto=goto,\n",
    "        update={\n",
    "            \"difficulty\": difficulty_level,\n",
    "        },\n",
    "    )"
   ]
  },
  {
   "cell_type": "code",
   "execution_count": 43,
   "id": "e2b46b71",
   "metadata": {},
   "outputs": [
    {
     "data": {
      "image/png": "[encoded data removed]",
      "text/plain": [
       "<langgraph.graph.state.CompiledStateGraph object at 0x115828050>"
      ]
     },
     "execution_count": 43,
     "metadata": {},
     "output_type": "execute_result"
    }
   ],
   "source": [
    "graph_builder = StateGraph(State)\n",
    "\n",
    "graph_builder.add_node(\"dumb_node\", dumb_node)\n",
    "graph_builder.add_node(\"average_node\", average_node)\n",
    "graph_builder.add_node(\"smart_node\", smart_node)\n",
    "graph_builder.add_node(\n",
    "    \"assess_difficulty\",\n",
    "    assess_difficulty,\n",
    "    destinations=(\n",
    "        \"dumb_node\",\n",
    "        \"average_node\",\n",
    "        \"smart_node\",\n",
    "    ),\n",
    ")\n",
    "\n",
    "graph_builder.add_edge(\n",
    "    START,\n",
    "    \"assess_difficulty\",\n",
    ")\n",
    "graph_builder.add_edge(\"dumb_node\", END)\n",
    "graph_builder.add_edge(\"average_node\", END)\n",
    "graph_builder.add_edge(\"smart_node\", END)\n",
    "\n",
    "graph = graph_builder.compile()\n",
    "\n",
    "graph"
   ]
  },
  {
   "cell_type": "code",
   "execution_count": 44,
   "id": "8f16fab9",
   "metadata": {},
   "outputs": [
    {
     "data": {
      "text/plain": [
       "{'question': 'Investment potential of Uranium in 2026',\n",
       " 'difficulty': 'hard',\n",
       " 'answer': 'Here’s a concise, investment-focused view of uranium’s setup for 2026, with key drivers, scenarios, ways to gain exposure, and what to monitor.\\n\\nBottom line\\n- Skew remains positive into 2026: utilities are deep into a new long‑term contracting cycle, policy tailwinds are strong, and fuel‑cycle frictions still tighten the system. Volatility will be high and the market is sensitive to a few large suppliers.\\n- Expect a tight-to-balanced market rather than a glut by 2026. Prices can stay near or above incentive levels for new supply, but sharp pullbacks are possible if multiple supply positives hit at once.\\n\\nWhy the thesis remains intact into 2026\\n- Demand\\n  - Utility uncovered requirements rise through the late 2020s; many delayed contracting in the 2014–2020 bear market and are now re‑covering needs.\\n  - Nuclear policy support has improved: life‑extensions in the US and Europe, Japan restarts progressing, and rapid buildout in China; COP28 saw a pledge to triple nuclear capacity by 2050. SMRs matter more in the 2030s but help sentiment and contracting.\\n- Supply\\n  - Mine restarts and debottlenecking (Canada, Namibia, Australia, US ISR) help, but greenfield lead times are long and full-cycle costs have risen.\\n  - Russian fuel-cycle risk persists. Western utilities shifting away from Russian enrichment/conversion increases U3O8 requirements (overfeeding effect) until Western capacity expansions fully arrive.\\n  - Secondary supplies (underfeeding, inventory sales) are smaller than in the 2010s; financial vehicles can absorb spot pounds when available.\\n- Fuel cycle\\n  - Conversion and enrichment prices jumped in 2022–2024; even as Western capacity ramps, the system likely remains tight into 2026, keeping upward pressure on U3O8 demand and pricing.\\n\\nKey 2026 catalysts and swing factors\\n- Western vs. Russian fuel-cycle rebalancing: pace of conversion/enrichment expansions; any hard bans or sanctions timelines affecting Russian EUP/UF6/U3O8.\\n- Producer delivery performance: guidance and execution from Kazakhstan’s Kazatomprom, Cameco’s Canadian assets, and African/Australian restarts.\\n- Utility term contracting volumes and durations: continued strong term activity supports price; a pause could loosen the market.\\n- Japan restarts and Chinese grid connections; US/EU life‑extension decisions.\\n- Financial demand: premium/discount dynamics of physical vehicles and any new listings that lower frictions for capital inflows.\\n- Macro and rates: higher rates reduce carry trades and developer financing appetite; easing rates can do the opposite.\\n\\nPrice framework (not a prediction)\\n- Bull case: 90–120 $/lb spot sustained\\n  - Tight fuel cycle, sanctions tighten Russian supply, utilities maintain above‑trend term contracting, financial vehicles accumulate. Miners and developers rerate; high torque in developers with permits/financing progress.\\n- Base case: 70–95 $/lb spot\\n  - Restarts meet part of the deficit; Western fuel-cycle additions ease the tightness but don’t fully normalize it; term prices stay firm. Producers generate strong cash; developers depend on financing terms.\\n- Bear case: 50–65 $/lb spot\\n  - Multiple supply positives arrive together (Kazakhstan + Canada + Africa exceed plans), macro risk-off, financial buyers step back; equities draw down sharply, especially higher‑beta names.\\n\\nWays to invest (examples, not endorsements)\\n- Physical exposure\\n  - Closed‑end trusts holding U3O8; typically higher correlation to spot and fewer operational risks. Liquidity/premium-to-NAV risk applies.\\n- Diversified miners\\n  - Uranium-focused ETFs holding global producers and developers; lower single‑asset risk, but still volatile.\\n- Single names\\n  - Low‑cost/current producers: large caps in Kazakhstan and Canada; mid‑tier restarts in Namibia/Australia/US ISR.\\n  - Near-term developers: high‑grade Canada (e.g., Athabasca Basin) and permitted ISR in the US; high torque but financing/permitting risk.\\n  - Royalty/streaming vehicles: lower operating risk, tied to sector volume/pricing.\\nNote: Jurisdictional risk varies (e.g., Kazakhstan FX/geopolitics; Niger/West Africa policy; permitting in Canada/US; Australia state policies).\\n\\nWhat to watch in 2025–2026\\n- Monthly/quarterly: U3O8 spot vs term, SWU and conversion prices, physical trust premiums/issuance, utility contracting volumes (UxC/TradeTech summaries).\\n- Company events: production guidance and delivery performance from Kazatomprom, Cameco, Paladin, Boss, US ISR producers; CAPEX/financing updates from major developers.\\n- Policy: US/EU rules on Russian nuclear imports, US credits for existing nuclear, Japan restart milestones, China’s annual new-start cadence.\\n- Supply chain: acid/reagent availability for ISR, conversion plant uptime, enrichment capacity additions timelines.\\n- Macro: rates, USD, energy complex (gas/coal), which influence nuclear dispatch economics and fund flows.\\n\\nPortfolio construction ideas (illustrative only)\\n- Core/satellite approach to balance torque and resilience:\\n  - Core 40–60%: physical vehicle and/or diversified miners ETF.\\n  - Satellite 20–40%: quality producers with low costs and strong balance sheets.\\n  - Optional 10–20%: select developers with clear catalysts (permits, offtakes, FID), sized modestly due to binary risks.\\n- Risk controls: position sizing for 40–60% drawdowns in juniors, staggered entries, and willingness to add on dislocations if the thesis is intact.\\n\\nMajor risks to the thesis\\n- Supply surprise: faster‑than‑expected ramp-ups or large by‑product supply.\\n- Policy reversals or reactor retirements exceeding expectations.\\n- Easing fuel-cycle tightness faster than anticipated (conversion/enrichment expansions and a detente on Russian supply).\\n- Financial bid fades: physical vehicles trade at a discount to NAV and stop issuing shares; higher rates resuscitate carry supply.\\n- Project execution: cost inflation, permitting delays, or financing shortfalls at key developers.\\n\\nIf you share your risk tolerance, preferred regions, and whether you want yield or torque, I can sketch a model allocation and a monitoring checklist tailored to you. This is general market commentary, not investment advice.',\n",
       " 'model_used': 'gpt-o3'}"
      ]
     },
     "execution_count": 44,
     "metadata": {},
     "output_type": "execute_result"
    }
   ],
   "source": [
    "graph.invoke({\"question\": \"Investment potential of Uranium in 2026\"})"
   ]
  }
 ],
 "metadata": {
  "kernelspec": {
   "display_name": ".venv",
   "language": "python",
   "name": "python3"
  },
  "language_info": {
   "codemirror_mode": {
    "name": "ipython",
    "version": 3
   },
   "file_extension": ".py",
   "mimetype": "text/x-python",
   "name": "python",
   "nbconvert_exporter": "python",
   "pygments_lexer": "ipython3",
   "version": "3.13.3"
  }
 },
 "nbformat": 4,
 "nbformat_minor": 5
}
