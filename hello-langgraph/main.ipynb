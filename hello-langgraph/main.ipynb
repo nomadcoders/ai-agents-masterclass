{
 "cells": [
  {
   "cell_type": "code",
   "execution_count": 28,
   "id": "24244580",
   "metadata": {},
   "outputs": [],
   "source": [
    "from langgraph.graph import StateGraph, START, END\n",
    "from typing_extensions import TypedDict\n",
    "from langgraph.types import Command"
   ]
  },
  {
   "cell_type": "code",
   "execution_count": 29,
   "id": "6803a7fd",
   "metadata": {},
   "outputs": [],
   "source": [
    "class State(TypedDict):\n",
    "    transfer_reason: str\n",
    "\n",
    "\n",
    "graph_builder = StateGraph(State)"
   ]
  },
  {
   "cell_type": "code",
   "execution_count": 30,
   "id": "d8202de9",
   "metadata": {},
   "outputs": [],
   "source": [
    "from typing import Literal\n",
    "\n",
    "\n",
    "def triage_node(state: State) -> Command[Literal[\"account_support\", \"tech_support\"]]:\n",
    "    return Command(\n",
    "        goto=\"account_support\",\n",
    "        update={\n",
    "            \"transfer_reason\": \"The user wants to change password.\",\n",
    "        },\n",
    "    )\n",
    "\n",
    "\n",
    "def tech_support(state: State):\n",
    "    return {}\n",
    "\n",
    "\n",
    "def account_support(state: State):\n",
    "    print(\"account_support running\")\n",
    "    return {}"
   ]
  },
  {
   "cell_type": "code",
   "execution_count": 31,
   "id": "b265112a",
   "metadata": {},
   "outputs": [
    {
     "data": {
      "text/plain": [
       "<langgraph.graph.state.StateGraph at 0x1223c16d0>"
      ]
     },
     "execution_count": 31,
     "metadata": {},
     "output_type": "execute_result"
    }
   ],
   "source": [
    "graph_builder.add_node(\"triage_node\", triage_node)\n",
    "graph_builder.add_node(\"tech_support\", tech_support)\n",
    "graph_builder.add_node(\"account_support\", account_support)\n",
    "\n",
    "\n",
    "graph_builder.add_edge(START, \"triage_node\")\n",
    "\n",
    "graph_builder.add_edge(\"tech_support\", END)\n",
    "graph_builder.add_edge(\"account_support\", END)"
   ]
  },
  {
   "cell_type": "code",
   "execution_count": 32,
   "id": "8d7c9312",
   "metadata": {},
   "outputs": [
    {
     "name": "stdout",
     "output_type": "stream",
     "text": [
      "account_support running\n"
     ]
    },
    {
     "data": {
      "text/plain": [
       "{'transfer_reason': 'The user wants to change password.'}"
      ]
     },
     "execution_count": 32,
     "metadata": {},
     "output_type": "execute_result"
    }
   ],
   "source": [
    "graph = graph_builder.compile()\n",
    "\n",
    "graph.invoke({})"
   ]
  },
  {
   "cell_type": "code",
   "execution_count": 33,
   "id": "e04b29df",
   "metadata": {},
   "outputs": [
    {
     "data": {
      "image/png": "[encoded data removed]",
      "text/plain": [
       "<langgraph.graph.state.CompiledStateGraph object at 0x12257ae70>"
      ]
     },
     "execution_count": 33,
     "metadata": {},
     "output_type": "execute_result"
    }
   ],
   "source": [
    "graph"
   ]
  }
 ],
 "metadata": {
  "kernelspec": {
   "display_name": ".venv",
   "language": "python",
   "name": "python3"
  },
  "language_info": {
   "codemirror_mode": {
    "name": "ipython",
    "version": 3
   },
   "file_extension": ".py",
   "mimetype": "text/x-python",
   "name": "python",
   "nbconvert_exporter": "python",
   "pygments_lexer": "ipython3",
   "version": "3.13.3"
  }
 },
 "nbformat": 4,
 "nbformat_minor": 5
}
