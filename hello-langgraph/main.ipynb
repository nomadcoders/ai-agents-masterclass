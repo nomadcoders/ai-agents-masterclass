{
 "cells": [
  {
   "cell_type": "code",
   "execution_count": null,
   "id": "24244580",
   "metadata": {},
   "outputs": [],
   "source": [
    "import sqlite3\n",
    "from langgraph.graph import StateGraph, START, END\n",
    "from langchain.chat_models import init_chat_model\n",
    "from langgraph.graph.message import MessagesState\n",
    "from langgraph.checkpoint.sqlite import SqliteSaver\n",
    "\n",
    "llm = init_chat_model(\"openai:gpt-4o-mini\")\n",
    "\n",
    "conn = sqlite3.connect(\n",
    "    \"memory.db\",\n",
    "    check_same_thread=False,\n",
    ")\n",
    "\n",
    "config = {\n",
    "    \"configurable\": {\n",
    "        \"thread_id\": \"0_x\",\n",
    "    },\n",
    "}"
   ]
  },
  {
   "cell_type": "code",
   "execution_count": null,
   "id": "6803a7fd",
   "metadata": {},
   "outputs": [],
   "source": [
    "class State(MessagesState):\n",
    "    pass\n",
    "\n",
    "\n",
    "graph_builder = StateGraph(State)"
   ]
  },
  {
   "cell_type": "code",
   "execution_count": null,
   "id": "cff58c43",
   "metadata": {},
   "outputs": [],
   "source": [
    "def chatbot(state: State):\n",
    "    response = llm.invoke(state[\"messages\"])\n",
    "    return {\n",
    "        \"messages\": [response],\n",
    "    }"
   ]
  },
  {
   "cell_type": "code",
   "execution_count": null,
   "id": "a66ed51d",
   "metadata": {},
   "outputs": [],
   "source": [
    "graph_builder.add_node(\"chatbot\", chatbot)\n",
    "\n",
    "\n",
    "graph_builder.add_edge(START, \"chatbot\")\n",
    "graph_builder.add_edge(\"chatbot\", END)\n",
    "\n",
    "graph = graph_builder.compile(\n",
    "    checkpointer=SqliteSaver(conn),\n",
    ")"
   ]
  },
  {
   "cell_type": "code",
   "execution_count": null,
   "id": "e174c3ab",
   "metadata": {},
   "outputs": [],
   "source": [
    "result = graph.invoke(\n",
    "    {\n",
    "        \"messages\": [\n",
    "            {\n",
    "                \"role\": \"user\",\n",
    "                \"content\": \"I live in Europe now. And the city I live in is Valencia.\",\n",
    "            },\n",
    "        ]\n",
    "    },\n",
    "    config=config,\n",
    ")"
   ]
  },
  {
   "cell_type": "code",
   "execution_count": null,
   "id": "63ba5183",
   "metadata": {},
   "outputs": [],
   "source": [
    "for message in result[\"messages\"]:\n",
    "    message.pretty_print()"
   ]
  },
  {
   "cell_type": "code",
   "execution_count": null,
   "id": "e2048591",
   "metadata": {},
   "outputs": [],
   "source": [
    "state_history = graph.get_state_history(config)"
   ]
  },
  {
   "cell_type": "code",
   "execution_count": null,
   "id": "5f9d607c",
   "metadata": {},
   "outputs": [],
   "source": [
    "for state_snapshot in list(state_history):\n",
    "    print(state_snapshot.next)\n",
    "    print(state_snapshot.values[\"messages\"])\n",
    "    print(\"=========\\n\")"
   ]
  },
  {
   "cell_type": "code",
   "execution_count": null,
   "id": "73b896e2",
   "metadata": {},
   "outputs": [],
   "source": [
    "state_history = graph.get_state_history(config)\n",
    "\n",
    "to_fork = list(state_history)[-5]\n",
    "\n",
    "to_fork.config"
   ]
  },
  {
   "cell_type": "code",
   "execution_count": null,
   "id": "955c1fa2",
   "metadata": {},
   "outputs": [],
   "source": [
    "from langchain_core.messages import HumanMessage\n",
    "\n",
    "graph.update_state(\n",
    "    to_fork.config,\n",
    "    {\n",
    "        \"messages\": [\n",
    "            HumanMessage(\n",
    "                content=\"I live in Europe now. And the city I live in is Zagreb.\",\n",
    "                id=\"25169a3d-cc86-4a5f-9abd-03d575089a9f\",\n",
    "            )\n",
    "        ]\n",
    "    },\n",
    ")"
   ]
  },
  {
   "cell_type": "code",
   "execution_count": null,
   "id": "b4479f89",
   "metadata": {},
   "outputs": [],
   "source": [
    "forked_state = graph.get_state_history(\n",
    "    {\n",
    "        \"configurable\": {\n",
    "            \"thread_id\": \"11\",\n",
    "            \"checkpoint_ns\": \"\",\n",
    "            \"checkpoint_id\": \"1f08d808-b408-6ca2-8004-f964cbac5a14\",\n",
    "        }\n",
    "    }\n",
    ")\n",
    "\n",
    "list(forked_state)"
   ]
  },
  {
   "cell_type": "code",
   "execution_count": null,
   "id": "fc2219a4",
   "metadata": {},
   "outputs": [],
   "source": [
    "result = graph.invoke(\n",
    "    None,\n",
    "    {\n",
    "        \"configurable\": {\n",
    "            \"thread_id\": \"0_x\",\n",
    "            \"checkpoint_ns\": \"\",\n",
    "            \"checkpoint_id\": \"1f08d808-b408-6ca2-8004-f964cbac5a14\",\n",
    "        }\n",
    "    },\n",
    ")\n",
    "\n",
    "for message in result[\"messages\"]:\n",
    "    message.pretty_print()"
   ]
  }
 ],
 "metadata": {
  "kernelspec": {
   "display_name": ".venv",
   "language": "python",
   "name": "python3"
  },
  "language_info": {
   "codemirror_mode": {
    "name": "ipython",
    "version": 3
   },
   "file_extension": ".py",
   "mimetype": "text/x-python",
   "name": "python",
   "nbconvert_exporter": "python",
   "pygments_lexer": "ipython3",
   "version": "3.13.3"
  }
 },
 "nbformat": 4,
 "nbformat_minor": 5
}
