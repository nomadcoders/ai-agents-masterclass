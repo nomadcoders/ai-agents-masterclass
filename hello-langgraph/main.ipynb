{
 "cells": [
  {
   "cell_type": "code",
   "execution_count": 93,
   "id": "24244580",
   "metadata": {},
   "outputs": [],
   "source": [
    "from langgraph.graph import StateGraph, START, END\n",
    "from typing_extensions import TypedDict"
   ]
  },
  {
   "cell_type": "code",
   "execution_count": 94,
   "id": "6803a7fd",
   "metadata": {},
   "outputs": [],
   "source": [
    "class PrivateState(TypedDict):\n",
    "    a: int\n",
    "    b: int\n",
    "\n",
    "\n",
    "class InputState(TypedDict):\n",
    "    hello: str\n",
    "\n",
    "\n",
    "class OutputState(TypedDict):\n",
    "    bye: str\n",
    "\n",
    "\n",
    "class MegaPrivate(TypedDict):\n",
    "    secret: bool\n",
    "\n",
    "\n",
    "graph_builder = StateGraph(\n",
    "    PrivateState,\n",
    "    input_schema=InputState,\n",
    "    output_schema=OutputState,\n",
    ")"
   ]
  },
  {
   "cell_type": "code",
   "execution_count": 95,
   "id": "d8202de9",
   "metadata": {},
   "outputs": [],
   "source": [
    "def node_one(state: InputState) -> InputState:\n",
    "    print(\"node_one ->\", state)\n",
    "    return {\"hello\": \"world\"}\n",
    "\n",
    "\n",
    "def node_two(state: PrivateState) -> PrivateState:\n",
    "    print(\"node_two ->\", state)\n",
    "    return {\n",
    "        \"a\": 1,\n",
    "    }\n",
    "\n",
    "\n",
    "def node_three(state: PrivateState) -> PrivateState:\n",
    "    print(\"node_three ->\", state)\n",
    "    return {\"b\": 1}\n",
    "\n",
    "\n",
    "def node_four(state: PrivateState) -> OutputState:\n",
    "    print(\"node_four ->\", state)\n",
    "    return {\n",
    "        \"bye\": \"world\",\n",
    "    }\n",
    "\n",
    "\n",
    "def node_five(state: OutputState):\n",
    "    return {\"secret\": True}\n",
    "\n",
    "\n",
    "def node_six(state: MegaPrivate):\n",
    "    print(state)"
   ]
  },
  {
   "cell_type": "code",
   "execution_count": 96,
   "id": "b265112a",
   "metadata": {},
   "outputs": [
    {
     "data": {
      "text/plain": [
       "<langgraph.graph.state.StateGraph at 0x11f99bd90>"
      ]
     },
     "execution_count": 96,
     "metadata": {},
     "output_type": "execute_result"
    }
   ],
   "source": [
    "graph_builder.add_node(\"node_one\", node_one)\n",
    "graph_builder.add_node(\"node_two\", node_two)\n",
    "graph_builder.add_node(\"node_three\", node_three)\n",
    "graph_builder.add_node(\"node_four\", node_four)\n",
    "graph_builder.add_node(\"node_five\", node_five)\n",
    "graph_builder.add_node(\"node_six\", node_six)\n",
    "\n",
    "graph_builder.add_edge(START, \"node_one\")\n",
    "graph_builder.add_edge(\"node_one\", \"node_two\")\n",
    "graph_builder.add_edge(\"node_two\", \"node_three\")\n",
    "graph_builder.add_edge(\"node_three\", \"node_four\")\n",
    "graph_builder.add_edge(\"node_four\", \"node_five\")\n",
    "graph_builder.add_edge(\"node_five\", \"node_six\")\n",
    "graph_builder.add_edge(\"node_six\", END)"
   ]
  },
  {
   "cell_type": "code",
   "execution_count": 97,
   "id": "8d7c9312",
   "metadata": {},
   "outputs": [
    {
     "name": "stdout",
     "output_type": "stream",
     "text": [
      "node_one -> {'hello': 'world'}\n",
      "node_two -> {}\n",
      "node_three -> {'a': 1}\n",
      "node_four -> {'a': 1, 'b': 1}\n",
      "{'secret': True}\n"
     ]
    },
    {
     "data": {
      "text/plain": [
       "{'bye': 'world'}"
      ]
     },
     "execution_count": 97,
     "metadata": {},
     "output_type": "execute_result"
    }
   ],
   "source": [
    "graph = graph_builder.compile()\n",
    "\n",
    "\n",
    "graph.invoke(\n",
    "    {\"hello\": \"world\"},\n",
    ")"
   ]
  }
 ],
 "metadata": {
  "kernelspec": {
   "display_name": ".venv",
   "language": "python",
   "name": "python3"
  },
  "language_info": {
   "codemirror_mode": {
    "name": "ipython",
    "version": 3
   },
   "file_extension": ".py",
   "mimetype": "text/x-python",
   "name": "python",
   "nbconvert_exporter": "python",
   "pygments_lexer": "ipython3",
   "version": "3.13.3"
  }
 },
 "nbformat": 4,
 "nbformat_minor": 5
}
