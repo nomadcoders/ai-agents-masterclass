{
 "cells": [
  {
   "cell_type": "code",
   "execution_count": null,
   "id": "24244580",
   "metadata": {},
   "outputs": [],
   "source": [
    "from langgraph.graph import StateGraph, START, END\n",
    "from typing_extensions import TypedDict"
   ]
  },
  {
   "cell_type": "code",
   "execution_count": null,
   "id": "6803a7fd",
   "metadata": {},
   "outputs": [],
   "source": [
    "class State(TypedDict):\n",
    "    hello: str\n",
    "\n",
    "\n",
    "graph_builder = StateGraph(State)"
   ]
  },
  {
   "cell_type": "code",
   "execution_count": null,
   "id": "d8202de9",
   "metadata": {},
   "outputs": [],
   "source": [
    "def node_one(state: State):\n",
    "    print(\"node_one\")\n",
    "\n",
    "\n",
    "def node_two(state: State):\n",
    "    print(\"node_two\")\n",
    "\n",
    "\n",
    "def node_three(state: State):\n",
    "    print(\"node_three\")"
   ]
  },
  {
   "cell_type": "code",
   "execution_count": null,
   "id": "b265112a",
   "metadata": {},
   "outputs": [],
   "source": [
    "graph_builder.add_node(\"node_one\", node_one)\n",
    "graph_builder.add_node(\"node_two\", node_two)\n",
    "graph_builder.add_node(\"node_three\", node_three)\n",
    "\n",
    "graph_builder.add_edge(START, \"node_one\")\n",
    "graph_builder.add_edge(\"node_one\", \"node_two\")\n",
    "graph_builder.add_edge(\"node_two\", \"node_three\")\n",
    "graph_builder.add_edge(\"node_three\", END)"
   ]
  }
 ],
 "metadata": {
  "kernelspec": {
   "display_name": ".venv",
   "language": "python",
   "name": "python3"
  },
  "language_info": {
   "codemirror_mode": {
    "name": "ipython",
    "version": 3
   },
   "file_extension": ".py",
   "mimetype": "text/x-python",
   "name": "python",
   "nbconvert_exporter": "python",
   "pygments_lexer": "ipython3",
   "version": "3.13.3"
  }
 },
 "nbformat": 4,
 "nbformat_minor": 5
}
