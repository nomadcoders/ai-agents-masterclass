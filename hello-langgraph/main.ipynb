{
 "cells": [
  {
   "cell_type": "code",
   "execution_count": null,
   "id": "24244580",
   "metadata": {},
   "outputs": [],
   "source": [
    "from langgraph.graph import StateGraph, START, END\n",
    "from typing_extensions import TypedDict\n",
    "from typing import Annotated\n",
    "import operator"
   ]
  },
  {
   "cell_type": "code",
   "execution_count": null,
   "id": "6803a7fd",
   "metadata": {},
   "outputs": [],
   "source": [
    "def update_function(old, new):\n",
    "    return old + new\n",
    "\n",
    "\n",
    "class State(TypedDict):\n",
    "    # messages: Annotated[list[str], update_function]\n",
    "    messages: Annotated[list[str], operator.add]\n",
    "\n",
    "\n",
    "graph_builder = StateGraph(State)"
   ]
  },
  {
   "cell_type": "code",
   "execution_count": 122,
   "id": "d8202de9",
   "metadata": {},
   "outputs": [],
   "source": [
    "def node_one(state: State):\n",
    "    # print(\"node_one ->\", state)\n",
    "    return {\n",
    "        \"messages\": [\"Hello, nice to meet you!\"],\n",
    "    }\n",
    "\n",
    "\n",
    "def node_two(state: State):\n",
    "    # print(\"node_two ->\", state)\n",
    "    return {}\n",
    "\n",
    "\n",
    "def node_three(state: State):\n",
    "    # print(\"node_three ->\", state)\n",
    "    return {}"
   ]
  },
  {
   "cell_type": "code",
   "execution_count": 123,
   "id": "b265112a",
   "metadata": {},
   "outputs": [
    {
     "data": {
      "text/plain": [
       "<langgraph.graph.state.StateGraph at 0x12cd182d0>"
      ]
     },
     "execution_count": 123,
     "metadata": {},
     "output_type": "execute_result"
    }
   ],
   "source": [
    "graph_builder.add_node(\"node_one\", node_one)\n",
    "graph_builder.add_node(\"node_two\", node_two)\n",
    "graph_builder.add_node(\"node_three\", node_three)\n",
    "\n",
    "graph_builder.add_edge(START, \"node_one\")\n",
    "graph_builder.add_edge(\"node_one\", \"node_two\")\n",
    "graph_builder.add_edge(\"node_two\", \"node_three\")\n",
    "graph_builder.add_edge(\"node_three\", END)"
   ]
  },
  {
   "cell_type": "code",
   "execution_count": 124,
   "id": "8d7c9312",
   "metadata": {},
   "outputs": [
    {
     "data": {
      "text/plain": [
       "{'messages': ['Hello!', 'Hello, nice to meet you!']}"
      ]
     },
     "execution_count": 124,
     "metadata": {},
     "output_type": "execute_result"
    }
   ],
   "source": [
    "graph = graph_builder.compile()\n",
    "\n",
    "graph.invoke(\n",
    "    {\"messages\": [\"Hello!\"]},\n",
    ")"
   ]
  }
 ],
 "metadata": {
  "kernelspec": {
   "display_name": ".venv",
   "language": "python",
   "name": "python3"
  },
  "language_info": {
   "codemirror_mode": {
    "name": "ipython",
    "version": 3
   },
   "file_extension": ".py",
   "mimetype": "text/x-python",
   "name": "python",
   "nbconvert_exporter": "python",
   "pygments_lexer": "ipython3",
   "version": "3.13.3"
  }
 },
 "nbformat": 4,
 "nbformat_minor": 5
}
