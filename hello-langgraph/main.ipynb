{
 "cells": [
  {
   "cell_type": "code",
   "execution_count": 9,
   "id": "24244580",
   "metadata": {},
   "outputs": [],
   "source": [
    "from langgraph.graph import StateGraph, START, END\n",
    "from typing_extensions import TypedDict, Annotated\n",
    "from langgraph.types import Send\n",
    "import operator"
   ]
  },
  {
   "cell_type": "code",
   "execution_count": 10,
   "id": "6803a7fd",
   "metadata": {},
   "outputs": [],
   "source": [
    "from typing import Union\n",
    "\n",
    "\n",
    "class State(TypedDict):\n",
    "    words: list[str]\n",
    "    output: Annotated[list[dict[str, Union[str, int]]], operator.add]\n",
    "\n",
    "\n",
    "graph_builder = StateGraph(State)"
   ]
  },
  {
   "cell_type": "code",
   "execution_count": 11,
   "id": "d8202de9",
   "metadata": {},
   "outputs": [],
   "source": [
    "def node_one(state: State):\n",
    "    print(f\"I want to count {len(state[\"words\"])} words in my state.\")\n",
    "\n",
    "\n",
    "def node_two(word: str):\n",
    "    return {\n",
    "        \"output\": [\n",
    "            {\n",
    "                \"word\": word,\n",
    "                \"letters\": len(word),\n",
    "            }\n",
    "        ]\n",
    "    }"
   ]
  },
  {
   "cell_type": "code",
   "execution_count": 12,
   "id": "b265112a",
   "metadata": {},
   "outputs": [
    {
     "data": {
      "text/plain": [
       "<langgraph.graph.state.StateGraph at 0x1223c2210>"
      ]
     },
     "execution_count": 12,
     "metadata": {},
     "output_type": "execute_result"
    }
   ],
   "source": [
    "graph_builder.add_node(\"node_one\", node_one)\n",
    "graph_builder.add_node(\"node_two\", node_two)\n",
    "\n",
    "\n",
    "def dispatcher(state: State):\n",
    "    return [Send(\"node_two\", word) for word in state[\"words\"]]\n",
    "\n",
    "\n",
    "graph_builder.add_edge(START, \"node_one\")\n",
    "graph_builder.add_conditional_edges(\"node_one\", dispatcher, [\"node_two\"])\n",
    "graph_builder.add_edge(\"node_two\", END)"
   ]
  },
  {
   "cell_type": "code",
   "execution_count": 13,
   "id": "8d7c9312",
   "metadata": {},
   "outputs": [
    {
     "name": "stdout",
     "output_type": "stream",
     "text": [
      "I want to count 6 words in my state.\n"
     ]
    },
    {
     "data": {
      "text/plain": [
       "{'words': ['hello', 'world', 'how', 'are', 'you', 'doing'],\n",
       " 'output': [{'word': 'hello', 'letters': 5},\n",
       "  {'word': 'world', 'letters': 5},\n",
       "  {'word': 'how', 'letters': 3},\n",
       "  {'word': 'are', 'letters': 3},\n",
       "  {'word': 'you', 'letters': 3},\n",
       "  {'word': 'doing', 'letters': 5}]}"
      ]
     },
     "execution_count": 13,
     "metadata": {},
     "output_type": "execute_result"
    }
   ],
   "source": [
    "graph = graph_builder.compile()\n",
    "\n",
    "graph.invoke(\n",
    "    {\n",
    "        \"words\": [\"hello\", \"world\", \"how\", \"are\", \"you\", \"doing\"],\n",
    "    }\n",
    ")"
   ]
  }
 ],
 "metadata": {
  "kernelspec": {
   "display_name": ".venv",
   "language": "python",
   "name": "python3"
  },
  "language_info": {
   "codemirror_mode": {
    "name": "ipython",
    "version": 3
   },
   "file_extension": ".py",
   "mimetype": "text/x-python",
   "name": "python",
   "nbconvert_exporter": "python",
   "pygments_lexer": "ipython3",
   "version": "3.13.3"
  }
 },
 "nbformat": 4,
 "nbformat_minor": 5
}
