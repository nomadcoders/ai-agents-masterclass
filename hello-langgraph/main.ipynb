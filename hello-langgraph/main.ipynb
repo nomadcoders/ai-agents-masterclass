{
 "cells": [
  {
   "cell_type": "code",
   "execution_count": null,
   "id": "24244580",
   "metadata": {},
   "outputs": [],
   "source": [
    "import sqlite3\n",
    "from langgraph.graph import StateGraph, START, END\n",
    "from langchain.chat_models import init_chat_model\n",
    "from langgraph.graph.message import MessagesState\n",
    "from langgraph.prebuilt import ToolNode, tools_condition\n",
    "from langchain_core.tools import tool\n",
    "from langgraph.checkpoint.sqlite import SqliteSaver\n",
    "\n",
    "llm = init_chat_model(\"openai:gpt-4o-mini\")\n",
    "\n",
    "conn = sqlite3.connect(\n",
    "    \"memory.db\",\n",
    "    check_same_thread=False,\n",
    ")"
   ]
  },
  {
   "cell_type": "code",
   "execution_count": null,
   "id": "6803a7fd",
   "metadata": {},
   "outputs": [],
   "source": [
    "class State(MessagesState):\n",
    "    custom_stuff: str\n",
    "\n",
    "\n",
    "graph_builder = StateGraph(State)"
   ]
  },
  {
   "cell_type": "code",
   "execution_count": null,
   "id": "cff58c43",
   "metadata": {},
   "outputs": [],
   "source": [
    "@tool\n",
    "def get_weather(city: str):\n",
    "    \"\"\"Gets weather in city\"\"\"\n",
    "    return f\"The weather in {city} is sunny.\"\n",
    "\n",
    "\n",
    "llm_with_tools = llm.bind_tools(tools=[get_weather])\n",
    "\n",
    "\n",
    "def chatbot(state: State):\n",
    "    response = llm_with_tools.invoke(state[\"messages\"])\n",
    "    return {\"messages\": [response]}"
   ]
  },
  {
   "cell_type": "code",
   "execution_count": null,
   "id": "a66ed51d",
   "metadata": {},
   "outputs": [],
   "source": [
    "tool_node = ToolNode(\n",
    "    tools=[get_weather],\n",
    ")\n",
    "\n",
    "graph_builder.add_node(\"chatbot\", chatbot)\n",
    "graph_builder.add_node(\"tools\", tool_node)\n",
    "\n",
    "\n",
    "graph_builder.add_edge(START, \"chatbot\")\n",
    "graph_builder.add_conditional_edges(\"chatbot\", tools_condition)\n",
    "graph_builder.add_edge(\"tools\", \"chatbot\")\n",
    "\n",
    "graph = graph_builder.compile(\n",
    "    checkpointer=SqliteSaver(conn),\n",
    ")"
   ]
  },
  {
   "cell_type": "code",
   "execution_count": null,
   "id": "14ed0981",
   "metadata": {},
   "outputs": [],
   "source": [
    "async for event in graph.astream(\n",
    "    {\n",
    "        \"messages\": [\n",
    "            {\n",
    "                \"role\": \"user\",\n",
    "                \"content\": \"what is the weather in berlin, budapest and bratislava.\",\n",
    "            },\n",
    "        ]\n",
    "    },\n",
    "    stream_mode=\"updates\",\n",
    "    # config={\n",
    "    #     \"configurable\": {\n",
    "    #         \"thread_id\": \"2\",\n",
    "    #     },\n",
    "    # },\n",
    "):\n",
    "    print(event)"
   ]
  },
  {
   "cell_type": "code",
   "execution_count": null,
   "id": "30e278a4",
   "metadata": {},
   "outputs": [],
   "source": [
    "for state in graph.get_state_history(\n",
    "    {\n",
    "        \"configurable\": {\n",
    "            \"thread_id\": \"2\",\n",
    "        },\n",
    "    }\n",
    "):\n",
    "    print(state.next)"
   ]
  }
 ],
 "metadata": {
  "kernelspec": {
   "display_name": ".venv",
   "language": "python",
   "name": "python3"
  },
  "language_info": {
   "codemirror_mode": {
    "name": "ipython",
    "version": 3
   },
   "file_extension": ".py",
   "mimetype": "text/x-python",
   "name": "python",
   "nbconvert_exporter": "python",
   "pygments_lexer": "ipython3",
   "version": "3.13.3"
  }
 },
 "nbformat": 4,
 "nbformat_minor": 5
}
