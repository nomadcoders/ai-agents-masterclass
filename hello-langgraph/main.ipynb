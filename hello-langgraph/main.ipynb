{
 "cells": [
  {
   "cell_type": "code",
   "execution_count": null,
   "id": "24244580",
   "metadata": {},
   "outputs": [],
   "source": [
    "from langgraph.graph import StateGraph, START, END\n",
    "from typing_extensions import TypedDict\n",
    "from langgraph.types import CachePolicy\n",
    "from langgraph.cache.memory import InMemoryCache\n",
    "from datetime import datetime"
   ]
  },
  {
   "cell_type": "code",
   "execution_count": null,
   "id": "6803a7fd",
   "metadata": {},
   "outputs": [],
   "source": [
    "class State(TypedDict):\n",
    "    time: str\n",
    "\n",
    "\n",
    "graph_builder = StateGraph(State)"
   ]
  },
  {
   "cell_type": "code",
   "execution_count": null,
   "id": "d8202de9",
   "metadata": {},
   "outputs": [],
   "source": [
    "def node_one(state: State):\n",
    "    # print(\"node_one ->\", state)\n",
    "    return {}\n",
    "\n",
    "\n",
    "def node_two(state: State):\n",
    "    # print(\"node_two ->\", state)\n",
    "    return {\"time\": f\"{datetime.now()}\"}\n",
    "\n",
    "\n",
    "def node_three(state: State):\n",
    "    # print(\"node_three ->\", state)\n",
    "    return {}"
   ]
  },
  {
   "cell_type": "code",
   "execution_count": null,
   "id": "b265112a",
   "metadata": {},
   "outputs": [],
   "source": [
    "graph_builder.add_node(\"node_one\", node_one)\n",
    "graph_builder.add_node(\n",
    "    \"node_two\",\n",
    "    node_two,\n",
    "    cache_policy=CachePolicy(ttl=20),\n",
    ")\n",
    "graph_builder.add_node(\"node_three\", node_three)\n",
    "\n",
    "graph_builder.add_edge(START, \"node_one\")\n",
    "graph_builder.add_edge(\"node_one\", \"node_two\")\n",
    "graph_builder.add_edge(\"node_two\", \"node_three\")\n",
    "graph_builder.add_edge(\"node_three\", END)"
   ]
  },
  {
   "cell_type": "code",
   "execution_count": null,
   "id": "8d7c9312",
   "metadata": {},
   "outputs": [],
   "source": [
    "import time\n",
    "\n",
    "graph = graph_builder.compile(cache=InMemoryCache())\n",
    "\n",
    "print(graph.invoke({}))\n",
    "time.sleep(5)\n",
    "print(graph.invoke({}))\n",
    "time.sleep(5)\n",
    "print(graph.invoke({}))\n",
    "time.sleep(5)\n",
    "print(graph.invoke({}))\n",
    "time.sleep(5)\n",
    "print(graph.invoke({}))\n",
    "time.sleep(5)\n",
    "print(graph.invoke({}))\n",
    "time.sleep(5)"
   ]
  }
 ],
 "metadata": {
  "kernelspec": {
   "display_name": ".venv",
   "language": "python",
   "name": "python3"
  },
  "language_info": {
   "codemirror_mode": {
    "name": "ipython",
    "version": 3
   },
   "file_extension": ".py",
   "mimetype": "text/x-python",
   "name": "python",
   "nbconvert_exporter": "python",
   "pygments_lexer": "ipython3",
   "version": "3.13.3"
  }
 },
 "nbformat": 4,
 "nbformat_minor": 5
}
