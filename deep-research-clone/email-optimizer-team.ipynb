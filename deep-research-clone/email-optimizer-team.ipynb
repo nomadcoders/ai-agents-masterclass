{
 "cells": [
  {
   "cell_type": "code",
   "execution_count": 7,
   "id": "12092e50",
   "metadata": {},
   "outputs": [],
   "source": [
    "from autogen_agentchat.teams import RoundRobinGroupChat\n",
    "from autogen_agentchat.agents import AssistantAgent\n",
    "from autogen_ext.models.openai import OpenAIChatCompletionClient\n",
    "from autogen_agentchat.conditions import MaxMessageTermination, TextMentionTermination\n",
    "from autogen_agentchat.ui import Console"
   ]
  },
  {
   "cell_type": "code",
   "execution_count": 8,
   "id": "edb23658",
   "metadata": {},
   "outputs": [],
   "source": [
    "model = OpenAIChatCompletionClient(model=\"gpt-4o-mini\")\n",
    "\n",
    "clarity_agent = AssistantAgent(\n",
    "    \"ClarityAgent\",\n",
    "    model_client=model,\n",
    "    system_message=\"\"\"You are an expert editor focused on clarity and simplicity. \n",
    "            Your job is to eliminate ambiguity, redundancy, and make every sentence crisp and clear. \n",
    "            Don't worry about persuasion or tone — just make the message easy to read and understand.\"\"\",\n",
    ")\n",
    "\n",
    "tone_agent = AssistantAgent(\n",
    "    \"ToneAgent\",\n",
    "    model_client=model,\n",
    "    system_message=\"\"\"You are a communication coach focused on emotional tone and professionalism. \n",
    "            Your job is to make the email sound warm, confident, and human — while staying professional \n",
    "            and appropriate for the audience. Improve the emotional resonance, polish the phrasing, \n",
    "            and adjust any words that may come off as stiff, cold, or overly casual.\"\"\",\n",
    ")\n",
    "\n",
    "persuasion_agent = AssistantAgent(\n",
    "    \"PersuasionAgent\",\n",
    "    model_client=model,\n",
    "    system_message=\"\"\"You are a persuasion expert trained in marketing, behavioral psychology, \n",
    "            and copywriting. Your job is to enhance the email's persuasive power: improve call to action, structure arguments, and emphasize benefits. Remove weak or passive language.\"\"\",\n",
    ")\n",
    "\n",
    "synthesizer_agent = AssistantAgent(\n",
    "    \"SynthesizerAgent\",\n",
    "    model_client=model,\n",
    "    system_message=\"\"\"You are an advanced email-writing specialist. Your role is to read all \n",
    "            prior agent responses and revisions, and then **synthesize the best ideas** into a unified, \n",
    "            polished draft of the email. Focus on: Integrating clarity, tone, and persuasion improvements; \n",
    "            Ensuring coherence, fluency, and a natural voice; Creating a version that feels professional, \n",
    "            effective, and readable.\"\"\",\n",
    ")\n",
    "\n",
    "critic_agent = AssistantAgent(\n",
    "    \"CriticAgent\",\n",
    "    model_client=model,\n",
    "    system_message=\"\"\"You are an email quality evaluator. Your job is to perform a final review \n",
    "            of the synthesized email and determine if it meets professional standards. Review the email for: \n",
    "            Clarity and flow, appropriate professional tone, effective call-to-action, and overall coherence.\n",
    "            Be constructive but decisive. If the email has major flaws (unclear message, unprofessional tone, \n",
    "            or missing key elements), provide ONE specific improvement suggestion. If the email meets professional standards and communicates effectively, respond with 'The email meets professional standards.' followed by `TERMINATE` on a new line. You should only approve emails that are perfect enough for professional use, dont settle.\"\"\",\n",
    ")"
   ]
  },
  {
   "cell_type": "code",
   "execution_count": 9,
   "id": "8c718841",
   "metadata": {},
   "outputs": [],
   "source": [
    "text_termination = TextMentionTermination(\"TERMINATE\")\n",
    "max_messages_termination = MaxMessageTermination(max_messages=30)\n",
    "\n",
    "termination_condition = text_termination | max_messages_termination"
   ]
  },
  {
   "cell_type": "code",
   "execution_count": 10,
   "id": "ac5babea",
   "metadata": {},
   "outputs": [
    {
     "name": "stdout",
     "output_type": "stream",
     "text": [
      "---------- TextMessage (user) ----------\n",
      "Hi! Im hungry, buy me lunch and invest in my business. Thanks.\n",
      "---------- TextMessage (ClarityAgent) ----------\n",
      "Hi! I'm hungry. Please buy me lunch and invest in my business. Thank you.\n",
      "---------- TextMessage (ToneAgent) ----------\n",
      "Subject: A Quick Favor\n",
      "\n",
      "Hi there!\n",
      "\n",
      "I hope you're doing well! I find myself feeling a bit peckish today, and I would truly appreciate it if you could treat me to lunch. Additionally, if you're open to it, I would love to discuss an opportunity to invest in my business. Your support could make a significant difference!\n",
      "\n",
      "Thank you so much for considering this. Looking forward to your response!\n",
      "\n",
      "Warm regards,  \n",
      "[Your Name]\n",
      "---------- TextMessage (PersuasionAgent) ----------\n",
      "Subject: Let's Make Delicious Opportunities Happen!\n",
      "\n",
      "Hi [Recipient's Name],\n",
      "\n",
      "I hope you're having a fantastic day! I wanted to reach out to ask for your help with two exciting opportunities.\n",
      "\n",
      "First, I'm feeling a bit hungry today, and I would greatly appreciate it if you could treat me to lunch. I promise to make it worth your while—how about we discuss some ideas while we eat that could spark our next steps?\n",
      "\n",
      "Second, I would love the chance to talk about an investment opportunity in my business. Your expertise and support can elevate my vision and help us achieve incredible results. Together, we can turn potential into profit!\n",
      "\n",
      "Thank you for considering my request. I’m excited to hear from you and hopefully share a meal that could lead to something amazing!\n",
      "\n",
      "Best,  \n",
      "[Your Name]  \n",
      "[Your Contact Information]  \n",
      "[Your Business Name] (optional)\n",
      "---------- TextMessage (SynthesizerAgent) ----------\n",
      "Subject: Let's Create Delicious Opportunities Together!\n",
      "\n",
      "Hi [Recipient's Name],\n",
      "\n",
      "I hope this message finds you well! I wanted to reach out with two requests that I believe could lead to exciting possibilities for both of us.\n",
      "\n",
      "First, I'm feeling a bit hungry today and would greatly appreciate it if you could treat me to lunch. It would be a great opportunity for us to chat and exchange ideas that could lead us to our next steps.\n",
      "\n",
      "Additionally, I would love to discuss an investment opportunity in my business with you. Your expertise and support could truly elevate my vision and help us achieve remarkable results together.\n",
      "\n",
      "Thank you for considering my requests. I'm looking forward to hearing from you and hopefully sharing a meal that could spark something amazing!\n",
      "\n",
      "Best regards,  \n",
      "[Your Name]  \n",
      "[Your Contact Information]  \n",
      "[Your Business Name] (optional)\n",
      "---------- TextMessage (CriticAgent) ----------\n",
      "The email meets professional standards.  \n",
      "TERMINATE\n"
     ]
    },
    {
     "data": {
      "text/plain": [
       "TaskResult(messages=[TextMessage(id='b44b4fcd-33e4-4b3e-b14c-ed35f4e6cff5', source='user', models_usage=None, metadata={}, created_at=datetime.datetime(2025, 8, 7, 13, 32, 30, 688581, tzinfo=datetime.timezone.utc), content='Hi! Im hungry, buy me lunch and invest in my business. Thanks.', type='TextMessage'), TextMessage(id='959c40ae-618e-4a8f-8ae2-4f494d430140', source='ClarityAgent', models_usage=RequestUsage(prompt_tokens=77, completion_tokens=18), metadata={}, created_at=datetime.datetime(2025, 8, 7, 13, 32, 31, 531234, tzinfo=datetime.timezone.utc), content=\"Hi! I'm hungry. Please buy me lunch and invest in my business. Thank you.\", type='TextMessage'), TextMessage(id='bc369cf4-cc33-4206-b077-ceacbe7b68ab', source='ToneAgent', models_usage=RequestUsage(prompt_tokens=123, completion_tokens=91), metadata={}, created_at=datetime.datetime(2025, 8, 7, 13, 32, 33, 550333, tzinfo=datetime.timezone.utc), content=\"Subject: A Quick Favor\\n\\nHi there!\\n\\nI hope you're doing well! I find myself feeling a bit peckish today, and I would truly appreciate it if you could treat me to lunch. Additionally, if you're open to it, I would love to discuss an opportunity to invest in my business. Your support could make a significant difference!\\n\\nThank you so much for considering this. Looking forward to your response!\\n\\nWarm regards,  \\n[Your Name]\", type='TextMessage'), TextMessage(id='4bb87ef2-a9c2-42ef-a316-557894fce5d3', source='PersuasionAgent', models_usage=RequestUsage(prompt_tokens=199, completion_tokens=175), metadata={}, created_at=datetime.datetime(2025, 8, 7, 13, 32, 37, 213794, tzinfo=datetime.timezone.utc), content=\"Subject: Let's Make Delicious Opportunities Happen!\\n\\nHi [Recipient's Name],\\n\\nI hope you're having a fantastic day! I wanted to reach out to ask for your help with two exciting opportunities.\\n\\nFirst, I'm feeling a bit hungry today, and I would greatly appreciate it if you could treat me to lunch. I promise to make it worth your while—how about we discuss some ideas while we eat that could spark our next steps?\\n\\nSecond, I would love the chance to talk about an investment opportunity in my business. Your expertise and support can elevate my vision and help us achieve incredible results. Together, we can turn potential into profit!\\n\\nThank you for considering my request. I’m excited to hear from you and hopefully share a meal that could lead to something amazing!\\n\\nBest,  \\n[Your Name]  \\n[Your Contact Information]  \\n[Your Business Name] (optional)\", type='TextMessage'), TextMessage(id='2fd73ced-a0f1-4869-83be-a7819b08f3db', source='SynthesizerAgent', models_usage=RequestUsage(prompt_tokens=420, completion_tokens=167), metadata={}, created_at=datetime.datetime(2025, 8, 7, 13, 32, 41, 210282, tzinfo=datetime.timezone.utc), content=\"Subject: Let's Create Delicious Opportunities Together!\\n\\nHi [Recipient's Name],\\n\\nI hope this message finds you well! I wanted to reach out with two requests that I believe could lead to exciting possibilities for both of us.\\n\\nFirst, I'm feeling a bit hungry today and would greatly appreciate it if you could treat me to lunch. It would be a great opportunity for us to chat and exchange ideas that could lead us to our next steps.\\n\\nAdditionally, I would love to discuss an investment opportunity in my business with you. Your expertise and support could truly elevate my vision and help us achieve remarkable results together.\\n\\nThank you for considering my requests. I'm looking forward to hearing from you and hopefully sharing a meal that could spark something amazing!\\n\\nBest regards,  \\n[Your Name]  \\n[Your Contact Information]  \\n[Your Business Name] (optional)\", type='TextMessage'), TextMessage(id='5ebd4205-11fe-4a05-a35c-e018a673a2ca', source='CriticAgent', models_usage=RequestUsage(prompt_tokens=647, completion_tokens=10), metadata={}, created_at=datetime.datetime(2025, 8, 7, 13, 32, 41, 718227, tzinfo=datetime.timezone.utc), content='The email meets professional standards.  \\nTERMINATE', type='TextMessage')], stop_reason=\"Text 'TERMINATE' mentioned\")"
      ]
     },
     "execution_count": 10,
     "metadata": {},
     "output_type": "execute_result"
    }
   ],
   "source": [
    "team = RoundRobinGroupChat(\n",
    "    participants=[\n",
    "        clarity_agent,\n",
    "        tone_agent,\n",
    "        persuasion_agent,\n",
    "        synthesizer_agent,\n",
    "        critic_agent,\n",
    "    ],\n",
    "    termination_condition=termination_condition,\n",
    ")\n",
    "\n",
    "await Console(\n",
    "    team.run_stream(\n",
    "        task=\"Hi! Im hungry, buy me lunch and invest in my business. Thanks.\"\n",
    "    )\n",
    ")"
   ]
  }
 ],
 "metadata": {
  "kernelspec": {
   "display_name": ".venv",
   "language": "python",
   "name": "python3"
  },
  "language_info": {
   "codemirror_mode": {
    "name": "ipython",
    "version": 3
   },
   "file_extension": ".py",
   "mimetype": "text/x-python",
   "name": "python",
   "nbconvert_exporter": "python",
   "pygments_lexer": "ipython3",
   "version": "3.13.3"
  }
 },
 "nbformat": 4,
 "nbformat_minor": 5
}
