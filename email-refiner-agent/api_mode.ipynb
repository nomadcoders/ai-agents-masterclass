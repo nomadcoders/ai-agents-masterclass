{
 "cells": [
  {
   "cell_type": "code",
   "execution_count": null,
   "id": "cd50e77d",
   "metadata": {},
   "outputs": [],
   "source": [
    "import requests\n",
    "\n",
    "\n",
    "BASE_URL = \"http://127.0.0.1:8000\"\n",
    "APP_NAME = \"travel_advisor_agent\"\n",
    "USER_ID = \"u_123\"\n",
    "SESSION_ID = \"ce085ce3-9637-4eca-b7a1-b0be58fa39f1\""
   ]
  },
  {
   "cell_type": "code",
   "execution_count": null,
   "id": "9fac43ae",
   "metadata": {},
   "outputs": [],
   "source": [
    "response = requests.post(f\"{BASE_URL}/apps/{APP_NAME}/users/{USER_ID}/sessions\")\n",
    "\n",
    "print(response.json())"
   ]
  },
  {
   "cell_type": "code",
   "execution_count": null,
   "id": "95f29768",
   "metadata": {},
   "outputs": [],
   "source": [
    "message = {\n",
    "    \"appName\": APP_NAME,\n",
    "    \"userId\": USER_ID,\n",
    "    \"sessionId\": SESSION_ID,\n",
    "    \"newMessage\": {\n",
    "        \"parts\": [{\"text\": \"Yes, I want to know the currency exchange rate\"}],\n",
    "        \"role\": \"user\",\n",
    "    },\n",
    "}\n",
    "response = requests.post(f\"{BASE_URL}/run\", json=message)\n",
    "\n",
    "print(response.json())"
   ]
  },
  {
   "cell_type": "code",
   "execution_count": null,
   "id": "f694f408",
   "metadata": {},
   "outputs": [],
   "source": [
    "data = response.json()\n",
    "\n",
    "for event in data:\n",
    "    content = event.get(\"content\")\n",
    "    parts = content.get(\"parts\")\n",
    "    for part in parts:\n",
    "        function_call = part.get(\"functionCall\", None)\n",
    "        if function_call:\n",
    "            print(function_call.get(\"name\"))\n",
    "        text = part.get(\"text\", None)\n",
    "        if text:\n",
    "            print(text)\n",
    "    print(\"=\" * 60)"
   ]
  }
 ],
 "metadata": {
  "kernelspec": {
   "display_name": ".venv",
   "language": "python",
   "name": "python3"
  },
  "language_info": {
   "codemirror_mode": {
    "name": "ipython",
    "version": 3
   },
   "file_extension": ".py",
   "mimetype": "text/x-python",
   "name": "python",
   "nbconvert_exporter": "python",
   "pygments_lexer": "ipython3",
   "version": "3.13.3"
  }
 },
 "nbformat": 4,
 "nbformat_minor": 5
}
