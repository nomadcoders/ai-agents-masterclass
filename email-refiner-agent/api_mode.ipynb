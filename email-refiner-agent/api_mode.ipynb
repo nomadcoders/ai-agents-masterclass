{
 "cells": [
  {
   "cell_type": "code",
   "execution_count": null,
   "id": "cd50e77d",
   "metadata": {},
   "outputs": [],
   "source": [
    "import requests\n",
    "\n",
    "\n",
    "BASE_URL = \"http://127.0.0.1:8000\"\n",
    "APP_NAME = \"travel_advisor_agent\"\n",
    "USER_ID = \"u_123\"\n",
    "SESSION_ID = \"3f673a5a-04ab-4edb-af23-6f42449a970b\""
   ]
  },
  {
   "cell_type": "code",
   "execution_count": null,
   "id": "9fac43ae",
   "metadata": {},
   "outputs": [],
   "source": [
    "response = requests.post(f\"{BASE_URL}/apps/{APP_NAME}/users/{USER_ID}/sessions\")\n",
    "\n",
    "print(response.json())"
   ]
  },
  {
   "cell_type": "code",
   "execution_count": null,
   "id": "95f29768",
   "metadata": {},
   "outputs": [],
   "source": [
    "import sseclient\n",
    "import json\n",
    "\n",
    "message = {\n",
    "    \"appName\": APP_NAME,\n",
    "    \"userId\": USER_ID,\n",
    "    \"sessionId\": SESSION_ID,\n",
    "    \"newMessage\": {\n",
    "        \"parts\": [{\"text\": \"What is the weather there?\"}],\n",
    "        \"role\": \"user\",\n",
    "    },\n",
    "    \"streaming\": True,\n",
    "}\n",
    "response = requests.post(\n",
    "    f\"{BASE_URL}/run_sse\",\n",
    "    json=message,\n",
    "    stream=True,\n",
    ")\n",
    "\n",
    "client = sseclient.SSEClient(response)\n",
    "\n",
    "for event in client.events():\n",
    "    data = json.loads(event.data)\n",
    "    content = data.get(\"content\")\n",
    "    parts = content.get(\"parts\")\n",
    "    for part in parts:\n",
    "        function_call = part.get(\"functionCall\", None)\n",
    "        if function_call:\n",
    "            print(function_call.get(\"name\"))\n",
    "        text = part.get(\"text\", None)\n",
    "        if text:\n",
    "            print(text)\n",
    "    print(\"=\" * 60)"
   ]
  }
 ],
 "metadata": {
  "kernelspec": {
   "display_name": ".venv",
   "language": "python",
   "name": "python3"
  },
  "language_info": {
   "codemirror_mode": {
    "name": "ipython",
    "version": 3
   },
   "file_extension": ".py",
   "mimetype": "text/x-python",
   "name": "python",
   "nbconvert_exporter": "python",
   "pygments_lexer": "ipython3",
   "version": "3.13.3"
  }
 },
 "nbformat": 4,
 "nbformat_minor": 5
}
