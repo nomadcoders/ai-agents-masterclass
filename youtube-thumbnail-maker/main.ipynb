{
 "cells": [
  {
   "cell_type": "code",
   "execution_count": null,
   "id": "d9780da9",
   "metadata": {},
   "outputs": [
    {
     "ename": "TypeError",
     "evalue": "Cannot instantiate typing.Annotated",
     "output_type": "error",
     "traceback": [
      "\u001b[31m---------------------------------------------------------------------------\u001b[39m",
      "\u001b[31mTypeError\u001b[39m                                 Traceback (most recent call last)",
      "\u001b[36mCell\u001b[39m\u001b[36m \u001b[39m\u001b[32mIn[5]\u001b[39m\u001b[32m, line 14\u001b[39m\n\u001b[32m      9\u001b[39m \u001b[38;5;28;01mimport\u001b[39;00m\u001b[38;5;250m \u001b[39m\u001b[34;01moperator\u001b[39;00m\n\u001b[32m     11\u001b[39m llm = init_chat_model(\u001b[33m\"\u001b[39m\u001b[33mopenai:gpt-4o-mini\u001b[39m\u001b[33m\"\u001b[39m)\n\u001b[32m---> \u001b[39m\u001b[32m14\u001b[39m \u001b[38;5;28;43;01mclass\u001b[39;49;00m\u001b[38;5;250;43m \u001b[39;49m\u001b[34;43;01mState\u001b[39;49;00m\u001b[43m(\u001b[49m\u001b[43mTypedDict\u001b[49m\u001b[43m)\u001b[49m\u001b[43m:\u001b[49m\n\u001b[32m     16\u001b[39m \u001b[43m    \u001b[49m\u001b[43mvideo_file\u001b[49m\u001b[43m:\u001b[49m\u001b[43m \u001b[49m\u001b[38;5;28;43mstr\u001b[39;49m\n\u001b[32m     17\u001b[39m \u001b[43m    \u001b[49m\u001b[43maudio_file\u001b[49m\u001b[43m:\u001b[49m\u001b[43m \u001b[49m\u001b[38;5;28;43mstr\u001b[39;49m\n",
      "\u001b[36mCell\u001b[39m\u001b[36m \u001b[39m\u001b[32mIn[5]\u001b[39m\u001b[32m, line 19\u001b[39m, in \u001b[36mState\u001b[39m\u001b[34m()\u001b[39m\n\u001b[32m     17\u001b[39m audio_file: \u001b[38;5;28mstr\u001b[39m\n\u001b[32m     18\u001b[39m transcription: \u001b[38;5;28mstr\u001b[39m\n\u001b[32m---> \u001b[39m\u001b[32m19\u001b[39m summaries: \u001b[43mAnnotated\u001b[49m\u001b[43m(\u001b[49m\u001b[38;5;28;43mlist\u001b[39;49m\u001b[43m[\u001b[49m\u001b[38;5;28;43mstr\u001b[39;49m\u001b[43m]\u001b[49m\u001b[43m,\u001b[49m\u001b[43m \u001b[49m\u001b[43moperator\u001b[49m\u001b[43m.\u001b[49m\u001b[43madd\u001b[49m\u001b[43m)\u001b[49m\n",
      "\u001b[36mFile \u001b[39m\u001b[32m/opt/homebrew/Cellar/python@3.13/3.13.3/Frameworks/Python.framework/Versions/3.13/lib/python3.13/typing.py:560\u001b[39m, in \u001b[36m_SpecialForm.__call__\u001b[39m\u001b[34m(self, *args, **kwds)\u001b[39m\n\u001b[32m    559\u001b[39m \u001b[38;5;28;01mdef\u001b[39;00m\u001b[38;5;250m \u001b[39m\u001b[34m__call__\u001b[39m(\u001b[38;5;28mself\u001b[39m, *args, **kwds):\n\u001b[32m--> \u001b[39m\u001b[32m560\u001b[39m     \u001b[38;5;28;01mraise\u001b[39;00m \u001b[38;5;167;01mTypeError\u001b[39;00m(\u001b[33mf\u001b[39m\u001b[33m\"\u001b[39m\u001b[33mCannot instantiate \u001b[39m\u001b[38;5;132;01m{\u001b[39;00m\u001b[38;5;28mself\u001b[39m\u001b[38;5;132;01m!r}\u001b[39;00m\u001b[33m\"\u001b[39m)\n",
      "\u001b[31mTypeError\u001b[39m: Cannot instantiate typing.Annotated"
     ]
    }
   ],
   "source": [
    "from langgraph.graph import END, START, StateGraph\n",
    "from langgraph.types import Send\n",
    "from typing import TypedDict\n",
    "import subprocess\n",
    "from openai import OpenAI\n",
    "import textwrap\n",
    "from langchain.chat_models import init_chat_model\n",
    "from typing_extensions import Annotated\n",
    "import operator\n",
    "\n",
    "llm = init_chat_model(\"openai:gpt-4o-mini\")\n",
    "\n",
    "\n",
    "class State(TypedDict):\n",
    "\n",
    "    video_file: str\n",
    "    audio_file: str\n",
    "    transcription: str\n",
    "    summaries: Annotated[list[str], operator.add]"
   ]
  },
  {
   "cell_type": "code",
   "execution_count": null,
   "id": "4ab893d4",
   "metadata": {},
   "outputs": [],
   "source": [
    "def extract_audio(state: State):\n",
    "    output_file = state[\"video_file\"].replace(\"mp4\", \"mp3\")\n",
    "    command = [\n",
    "        \"ffmpeg\",\n",
    "        \"-i\",\n",
    "        state[\"video_file\"],\n",
    "        \"-filter:a\",\n",
    "        \"atempo=2.0\",\n",
    "        \"-y\",\n",
    "        output_file,\n",
    "    ]\n",
    "    subprocess.run(command)\n",
    "    return {\n",
    "        \"audio_file\": output_file,\n",
    "    }\n",
    "\n",
    "\n",
    "def transcribe_audio(state: State):\n",
    "    client = OpenAI()\n",
    "    with open(state[\"audio_file\"], \"rb\") as audio_file:\n",
    "        transcription = client.audio.transcriptions.create(\n",
    "            model=\"whisper-1\",\n",
    "            response_format=\"text\",\n",
    "            file=audio_file,\n",
    "            language=\"en\",\n",
    "            prompt=\"Netherlands, Rotterdam, Amsterdam, The Hage\",\n",
    "        )\n",
    "        return {\n",
    "            \"transcription\": transcription,\n",
    "        }\n",
    "\n",
    "\n",
    "def dispatch_summarizers(state: State):\n",
    "    transcription = state[\"transcription\"]\n",
    "    chunks = []\n",
    "    for i, chunk in enumerate(textwrap.wrap(transcription, 500)):\n",
    "        chunks.append({\"id\": i + 1, \"chunk\": chunk})\n",
    "    return [Send(\"summarize_chunk\", chunk) for chunk in chunks]\n",
    "\n",
    "\n",
    "def summarize_chunk(chunk):\n",
    "    chunk_id = chunk[\"id\"]\n",
    "    chunk = chunk[\"chunk\"]\n",
    "\n",
    "    response = llm.invoke(\n",
    "        f\"\"\"\n",
    "        Please summarize the following text.\n",
    "\n",
    "        Text: {chunk}\n",
    "        \"\"\"\n",
    "    )\n",
    "    summary = f\"[Chunk {chunk_id}] {response.content}\"\n",
    "    return {\n",
    "        \"summaries\": [summary],\n",
    "    }"
   ]
  },
  {
   "cell_type": "code",
   "execution_count": null,
   "id": "ef0042df",
   "metadata": {},
   "outputs": [],
   "source": [
    "graph_builder = StateGraph(State)\n",
    "\n",
    "graph_builder.add_node(\"extract_audio\", extract_audio)\n",
    "graph_builder.add_node(\"transcribe_audio\", transcribe_audio)\n",
    "graph_builder.add_node(\"summarize_chunk\", summarize_chunk)\n",
    "\n",
    "graph_builder.add_edge(START, \"extract_audio\")\n",
    "graph_builder.add_edge(\"extract_audio\", \"transcribe_audio\")\n",
    "graph_builder.add_conditional_edges(\n",
    "    \"transcribe_audio\", dispatch_summarizers, [\"summarize_chunk\"]\n",
    ")\n",
    "graph_builder.add_edge(\"summarize_chunk\", END)\n",
    "\n",
    "graph = graph_builder.compile()"
   ]
  },
  {
   "cell_type": "code",
   "execution_count": null,
   "id": "33d38b00",
   "metadata": {},
   "outputs": [],
   "source": [
    "graph.invoke({\"video_file\": \"netherlands.mp4\"})"
   ]
  }
 ],
 "metadata": {
  "kernelspec": {
   "display_name": ".venv",
   "language": "python",
   "name": "python3"
  },
  "language_info": {
   "codemirror_mode": {
    "name": "ipython",
    "version": 3
   },
   "file_extension": ".py",
   "mimetype": "text/x-python",
   "name": "python",
   "nbconvert_exporter": "python",
   "pygments_lexer": "ipython3",
   "version": "3.13.3"
  }
 },
 "nbformat": 4,
 "nbformat_minor": 5
}
