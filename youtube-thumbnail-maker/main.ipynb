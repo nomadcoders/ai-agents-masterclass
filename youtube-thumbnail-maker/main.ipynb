{
 "cells": [
  {
   "cell_type": "code",
   "execution_count": null,
   "id": "d9780da9",
   "metadata": {},
   "outputs": [],
   "source": [
    "from langgraph.graph import END, START, StateGraph\n",
    "from typing import TypedDict\n",
    "import subprocess\n",
    "from openai import OpenAI\n",
    "\n",
    "\n",
    "class State(TypedDict):\n",
    "\n",
    "    video_file: str\n",
    "    audio_file: str\n",
    "    transcription: str"
   ]
  },
  {
   "cell_type": "code",
   "execution_count": null,
   "id": "4ab893d4",
   "metadata": {},
   "outputs": [],
   "source": [
    "def extract_audio(state: State):\n",
    "    output_file = state[\"video_file\"].replace(\"mp4\", \"mp3\")\n",
    "    command = [\n",
    "        \"ffmpeg\",\n",
    "        \"-i\",\n",
    "        state[\"video_file\"],\n",
    "        \"-filter:a\",\n",
    "        \"atempo=2.0\",\n",
    "        \"-y\",\n",
    "        output_file,\n",
    "    ]\n",
    "    subprocess.run(command)\n",
    "    return {\n",
    "        \"audio_file\": output_file,\n",
    "    }\n",
    "\n",
    "\n",
    "def transcribe_audio(state: State):\n",
    "    client = OpenAI()\n",
    "    with open(state[\"audio_file\"], \"rb\") as audio_file:\n",
    "        transcription = client.audio.transcriptions.create(\n",
    "            model=\"whisper-1\",\n",
    "            response_format=\"text\",\n",
    "            file=audio_file,\n",
    "            language=\"en\",\n",
    "            prompt=\"Netherlands, Rotterdam, Amsterdam, The Hage\",\n",
    "        )\n",
    "        return {\n",
    "            \"transcription\": transcription,\n",
    "        }"
   ]
  },
  {
   "cell_type": "code",
   "execution_count": null,
   "id": "ef0042df",
   "metadata": {},
   "outputs": [],
   "source": [
    "graph_builder = StateGraph(State)\n",
    "\n",
    "graph_builder.add_node(\"extract_audio\", extract_audio)\n",
    "graph_builder.add_node(\"transcribe_audio\", transcribe_audio)\n",
    "\n",
    "graph_builder.add_edge(START, \"extract_audio\")\n",
    "graph_builder.add_edge(\"extract_audio\", \"transcribe_audio\")\n",
    "graph_builder.add_edge(\"transcribe_audio\", END)\n",
    "\n",
    "graph = graph_builder.compile()"
   ]
  },
  {
   "cell_type": "code",
   "execution_count": null,
   "id": "33d38b00",
   "metadata": {},
   "outputs": [],
   "source": [
    "graph.invoke({\"video_file\": \"netherlands.mp4\"})"
   ]
  }
 ],
 "metadata": {
  "kernelspec": {
   "display_name": ".venv",
   "language": "python",
   "name": "python3"
  },
  "language_info": {
   "codemirror_mode": {
    "name": "ipython",
    "version": 3
   },
   "file_extension": ".py",
   "mimetype": "text/x-python",
   "name": "python",
   "nbconvert_exporter": "python",
   "pygments_lexer": "ipython3",
   "version": "3.13.3"
  }
 },
 "nbformat": 4,
 "nbformat_minor": 5
}
